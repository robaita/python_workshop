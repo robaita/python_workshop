{
 "cells": [
  {
   "cell_type": "markdown",
   "metadata": {},
   "source": [
    "<div id=\"BBox\" class=\"alert alert-warning\" style=\"font-family:courier;color:black;justify-content:left;\">\n",
    "<h1>Python Virtual Environment</h1>\n",
    "A virtual environment is an isolated environment in Python that allows you to install and manage packages separately from the global Python environment. This is essential for avoiding conflicts between package dependencies in different projects, ensuring each project can have its specific versions of libraries without interference.\n",
    "\n",
    "<h3>Importance of Virtual Environments:</h3>\n",
    "<ul>\n",
    "<li>\n",
    "<strong>Dependency Management:</strong> Each project can use its required package versions, preventing version conflicts.\n",
    "</li>\n",
    "<li>\n",
    "<strong>Isolation:</strong> Keeps projects isolated, so changes in one environment don’t affect others.\n",
    "</li>\n",
    "<li>\n",
    "<strong>Reproducibility:</strong> Ensures that each project can be easily reproduced and shared with consistent package versions.\n",
    "</li>\n",
    "</ul>\n",
    "\n",
    "<h3> Creating a Virtual Environment in Python:</h3>\n",
    "<ul>\n",
    "<li>\n",
    "<strong>Download the Installer:</strong><br>\n",
    "Install virtualenv (if not using Python’s built-in venv): <br>\n",
    "pip install virtualenv\n",
    "</li>\n",
    "<li>\n",
    "<strong>Create the Environment:</strong><br>\n",
    "Using venv (built-in from Python 3.3+): <br>\n",
    "python3 -m venv myenv <br><br>\n",
    "Using virtualenv (for additional flexibility or older Python versions): <br>\n",
    "virtualenv myenv <br>\n",
    "Replace myenv with your preferred environment name.\n",
    "</li>\n",
    "<li>\n",
    "<strong>Activate the Environment:</strong><br>\n",
    "<u>On Linux/macOS: </u><br>\n",
    "source myenv/bin/activate <br><br>\n",
    "<u>On Windows:</u> <br>\n",
    "myenv\\Scripts\\activate\n",
    "</li>\n",
    "<li>\n",
    "<strong>Install Packages in the Virtual Environment:</strong><br>\n",
    "Once activated, use pip to install packages locally within this environment: <br>\n",
    "pip install <package_name>\n",
    "</li>\n",
    "<li>\n",
    "<strong>Deactivate the Environment:</strong><br>\n",
    "To exit the virtual environment, simply run:<br>\n",
    "Copy code\n",
    "</li>\n",
    "</ul>\n",
    "\n",
    "</div>"
   ]
  }
 ],
 "metadata": {
  "kernelspec": {
   "display_name": "tf_2.2",
   "language": "python",
   "name": "python3"
  },
  "language_info": {
   "name": "python",
   "version": "3.7.9"
  }
 },
 "nbformat": 4,
 "nbformat_minor": 2
}

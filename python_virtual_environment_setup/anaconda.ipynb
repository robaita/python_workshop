{
 "cells": [
  {
   "cell_type": "markdown",
   "metadata": {},
   "source": [
    "<div id=\"BBox\" class=\"alert alert-warning\" style=\"font-family:courier;color:black;justify-content:left;\">\n",
    "<h1>Setting up Anaconda</h1>\n",
    "Anaconda is a powerful open-source distribution of Python and R for data science, machine learning, and scientific computing. It simplifies package management and deployment, offering pre-installed libraries and tools, like Jupyter Notebook, pandas, NumPy, and scikit-learn. Anaconda is ideal for managing environments and dependencies, allowing users to create isolated environments for different projects.\n",
    "\n",
    "<h3> Installing Anaconda on Linux:</h3>\n",
    "<ul>\n",
    "<li>\n",
    "<strong>Download the Installer:</strong><br>\n",
    "Visit the Anaconda website and download the latest Linux installer.\n",
    "</li>\n",
    "<li>\n",
    "<strong>Run the Installer:</strong><br>\n",
    "Open a terminal, navigate to the download directory, and run: <br>\n",
    "bash Anaconda3-<version>-Linux-x86_64.sh <br>\n",
    "Replace <version> with the specific version you downloaded.\n",
    "</li>\n",
    "<li>\n",
    "<strong>Follow the Prompts:</strong><br>\n",
    "Press Enter to review the license and type yes to agree. Specify the installation path or press Enter for the default location.\n",
    "</li>\n",
    "<li>\n",
    "<strong>Initialize Conda (optional):</strong><br>\n",
    "To automatically activate Anaconda in your terminal, you can allow the installer to initialize it. Alternatively, you can manually enable it later by running: <br>\n",
    "source ~/anaconda3/bin/activate\n",
    "</li>\n",
    "<li>\n",
    "<strong>Verify Installation:</strong><br>\n",
    "Close and reopen the terminal, then verify the installation:<br>\n",
    "conda --version\n",
    "</li>\n",
    "</ul>\n",
    "\n",
    "</div>"
   ]
  }
 ],
 "metadata": {
  "kernelspec": {
   "display_name": "tf_2.2",
   "language": "python",
   "name": "python3"
  },
  "language_info": {
   "name": "python",
   "version": "3.7.9"
  }
 },
 "nbformat": 4,
 "nbformat_minor": 2
}

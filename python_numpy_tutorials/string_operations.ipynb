{
 "cells": [
  {
   "cell_type": "markdown",
   "metadata": {},
   "source": [
    "<div id=\"BBox\" class=\"alert alert-info\" style=\"font-family:courier;color:black;justify-content:left;\">\n",
    "<h1> String Operations </h1>\n",
    "NumPy’s string operations provide a comprehensive set of functions specifically designed to manipulate and process string data within arrays, making it easier to handle text-based data efficiently. These functions allow users to perform operations like string concatenation, case conversion, finding and replacing substrings, checking for substrings, splitting strings, and trimming whitespace, all directly on NumPy arrays. The string functions are vectorized, meaning they operate on each element of an array without the need for looping, which improves performance significantly compared to standard Python string manipulation on large datasets. This capability is especially useful in <u>data preprocessing and cleaning, where handling text data efficiently is crucial, such as in Natural Language Processing (NLP) tasks and data wrangling workflows </u>. By leveraging NumPy’s string operations, users can achieve consistency and speed in managing text data, facilitating smoother transitions between different stages of <u>data processing in a machine learning pipeline or data analysis project</u>.\n",
    "<ul>\n",
    "<li><strong>np.char.add : </strong> Concatenates (joins) two strings element-wise. It’s useful for combining values in different string arrays or adding prefixes/suffixes.</li>\n",
    "<li><strong>np.char.multiply :</strong> Repeats each string in an array a specified number of times.</li>\n",
    "<li><strong>np.char.capitalize : </strong>Capitalizes the first letter of each string element in an array.</li>\n",
    "<li><strong>np.char.title : </strong>Converts each string to title case, capitalizing the first letter of each word.</li>\n",
    "<li><strong>np.char.lower : </strong>Converts all characters in each string element to lowercase.</li>\n",
    "<li><strong>np.char.upper : </strong>Converts all characters in each string element to uppercase.</li>\n",
    "<li><strong>np.char.split : </strong>Splits each string element into a list of words based on a specified delimiter (defaults to whitespace).</li>\n",
    "<li><strong>np.char.strip : </strong>Removes leading and trailing whitespace from each string element.</li>\n",
    "<li><strong>np.char.replace : </strong> Replaces occurrences of a specified substring with another substring within each element of the array.\n",
    "</li>\n",
    "<li><strong>np.char.find : </strong> Searches for the first occurrence of a specified substring within each string element and returns the index. If not found, returns `-1`.\n",
    "</li>\n",
    "<li><strong>np.char.count : </strong> Counts occurrences of a specified substring within each string element.</li>\n",
    "<li><strong>np.char.join : </strong> Joins the characters of each string in an array using a specified separator.</li>\n",
    "<li><strong>np.char.endswith : </strong> Checks if each string element in an array ends with a specified suffix, returning `True` or `False`.\n",
    "</li>\n",
    "<li><strong>np.char.startswith : </strong> Checks if each string element in an array starts with a specified prefix.</li>\n",
    "<li><strong>np.char.equal : </strong> Compares each string element in two arrays and returns `True` where elements are equal, and `False` otherwise.\n",
    "</li>\n",
    "</ul>\n",
    "\n",
    "</div>"
   ]
  },
  {
   "cell_type": "code",
   "execution_count": 2,
   "metadata": {},
   "outputs": [],
   "source": [
    "import numpy as np"
   ]
  },
  {
   "cell_type": "code",
   "execution_count": null,
   "metadata": {},
   "outputs": [
    {
     "name": "stdout",
     "output_type": "stream",
     "text": [
      "['Hello World' 'Data Science']\n"
     ]
    }
   ],
   "source": [
    "array1 = ['Hello ', 'Data ']\n",
    "array2 = ['World', 'Science']\n",
    "result = np.char.add( array1, array2)\n",
    "\n",
    "print(result)"
   ]
  },
  {
   "cell_type": "code",
   "execution_count": 5,
   "metadata": {},
   "outputs": [
    {
     "name": "stdout",
     "output_type": "stream",
     "text": [
      "['hellohellohello' 'worldworldworld']\n"
     ]
    }
   ],
   "source": [
    "array = ['hello', 'world']\n",
    "result = np.char.multiply(array, 3)\n",
    "print(result)"
   ]
  },
  {
   "cell_type": "code",
   "execution_count": 9,
   "metadata": {},
   "outputs": [
    {
     "name": "stdout",
     "output_type": "stream",
     "text": [
      "['Hello world' 'Data science']\n"
     ]
    }
   ],
   "source": [
    "result = np.char.capitalize(['hello world', 'data science'])\n",
    "print(result)"
   ]
  },
  {
   "cell_type": "code",
   "execution_count": 10,
   "metadata": {},
   "outputs": [
    {
     "name": "stdout",
     "output_type": "stream",
     "text": [
      "['Hello World' 'Data Science']\n"
     ]
    }
   ],
   "source": [
    "result = np.char.title(['hello world', 'data science'])\n",
    "print(result)"
   ]
  },
  {
   "cell_type": "code",
   "execution_count": 11,
   "metadata": {},
   "outputs": [
    {
     "name": "stdout",
     "output_type": "stream",
     "text": [
      "['hello' 'world']\n"
     ]
    }
   ],
   "source": [
    "result = np.char.lower(['HELLO', 'WORLD'])\n",
    "print(result)"
   ]
  },
  {
   "cell_type": "code",
   "execution_count": 12,
   "metadata": {},
   "outputs": [
    {
     "name": "stdout",
     "output_type": "stream",
     "text": [
      "['HELLO' 'WORLD']\n"
     ]
    }
   ],
   "source": [
    "result = np.char.upper(['hello', 'world'])\n",
    "print(result)"
   ]
  },
  {
   "cell_type": "code",
   "execution_count": 22,
   "metadata": {},
   "outputs": [
    {
     "name": "stdout",
     "output_type": "stream",
     "text": [
      "hello world\n",
      "numpy array\n",
      "['hello', 'world']\n",
      "['numpy', 'array']\n"
     ]
    }
   ],
   "source": [
    "array = ['hello world', 'numpy array']\n",
    "print(array[0])\n",
    "print(array[1])\n",
    "result = np.char.split(array)\n",
    "print(result[0])\n",
    "print(result[1])\n"
   ]
  },
  {
   "cell_type": "code",
   "execution_count": 23,
   "metadata": {},
   "outputs": [
    {
     "name": "stdout",
     "output_type": "stream",
     "text": [
      "['hello' 'world']\n"
     ]
    }
   ],
   "source": [
    "result = np.char.strip([' hello ', ' world '])\n",
    "print(result)"
   ]
  },
  {
   "cell_type": "code",
   "execution_count": 24,
   "metadata": {},
   "outputs": [
    {
     "name": "stdout",
     "output_type": "stream",
     "text": [
      "['hello_world' 'data_science']\n"
     ]
    }
   ],
   "source": [
    "result = np.char.replace(['hello world', 'data science'], ' ', '_')\n",
    "print(result)"
   ]
  },
  {
   "cell_type": "code",
   "execution_count": 25,
   "metadata": {},
   "outputs": [
    {
     "name": "stdout",
     "output_type": "stream",
     "text": [
      "[4 1]\n"
     ]
    }
   ],
   "source": [
    "result = np.char.find(['hello', 'world'], 'o')\n",
    "print(result)"
   ]
  },
  {
   "cell_type": "code",
   "execution_count": 26,
   "metadata": {},
   "outputs": [
    {
     "name": "stdout",
     "output_type": "stream",
     "text": [
      "[2 1]\n"
     ]
    }
   ],
   "source": [
    "result = np.char.count(['hello', 'world'], 'l')\n",
    "print(result)"
   ]
  },
  {
   "cell_type": "code",
   "execution_count": 29,
   "metadata": {},
   "outputs": [
    {
     "name": "stdout",
     "output_type": "stream",
     "text": [
      "['h-e-l-l-o' 'w-o-r-l-d']\n"
     ]
    }
   ],
   "source": [
    "result = np.char.join('-', ['hello', 'world'])\n",
    "print(result)"
   ]
  },
  {
   "cell_type": "code",
   "execution_count": 30,
   "metadata": {},
   "outputs": [
    {
     "name": "stdout",
     "output_type": "stream",
     "text": [
      "[False  True]\n"
     ]
    }
   ],
   "source": [
    "result = np.char.endswith(['hello', 'world'], 'd')\n",
    "print(result)"
   ]
  },
  {
   "cell_type": "code",
   "execution_count": 31,
   "metadata": {},
   "outputs": [
    {
     "name": "stdout",
     "output_type": "stream",
     "text": [
      "[ True False]\n"
     ]
    }
   ],
   "source": [
    "result = np.char.startswith(['hello', 'world'], 'h')\n",
    "print(result)"
   ]
  },
  {
   "cell_type": "code",
   "execution_count": 33,
   "metadata": {},
   "outputs": [
    {
     "name": "stdout",
     "output_type": "stream",
     "text": [
      "[False  True]\n"
     ]
    }
   ],
   "source": [
    "result = np.char.equal(['hello', 'world'], ['Hello', 'world'])\n",
    "print(result)"
   ]
  },
  {
   "cell_type": "code",
   "execution_count": null,
   "metadata": {},
   "outputs": [],
   "source": []
  }
 ],
 "metadata": {
  "kernelspec": {
   "display_name": "tf_2.2",
   "language": "python",
   "name": "python3"
  },
  "language_info": {
   "codemirror_mode": {
    "name": "ipython",
    "version": 3
   },
   "file_extension": ".py",
   "mimetype": "text/x-python",
   "name": "python",
   "nbconvert_exporter": "python",
   "pygments_lexer": "ipython3",
   "version": "3.7.9"
  }
 },
 "nbformat": 4,
 "nbformat_minor": 2
}

{
 "cells": [
  {
   "cell_type": "markdown",
   "metadata": {},
   "source": [
    "<div id=\"BBox\" class=\"alert alert-info\" style=\"font-family:courier;color:black;justify-content:left;\">\n",
    "<h1> Linear Algebra Operations </h1>\n",
    "NumPy's linear algebra module is a powerful component that provides a range of functions for performing advanced matrix operations essential in scientific computing, machine learning, and data science. With linear algebra routines, users can easily execute operations such as matrix multiplication, determinant calculations, matrix inversion, and solving systems of linear equations. The module includes functions to compute eigenvalues and eigenvectors, perform singular value decomposition (SVD), and calculate matrix norms, all of which are fundamental in areas like dimensionality reduction, feature transformation, and optimization. These operations are highly optimized for performance, enabling efficient computation even on large datasets. NumPy’s linear algebra functions also offer support for complex numbers, making them suitable for signal processing and other advanced mathematical applications. By using NumPy’s streamlined syntax and highly optimized routines, practitioners can handle complex linear transformations and decompositions with minimal effort, making it an invaluable tool for both practical and theoretical computations.\n",
    "<ul>\n",
    "<li><strong>np.dot : </strong> Computes the dot product of two arrays. If both arrays are 1-dimensional, it calculates the inner product; if they are 2-dimensional, it performs matrix multiplication.\n",
    "</li>\n",
    "<li><strong>np.linalg.inv :</strong> Computes the inverse of a square matrix, which is a matrix that, when multiplied by the original matrix, yields the identity matrix.\n",
    "</li>\n",
    "<li><strong>np.linalg.det : </strong>Calculates the determinant of a square matrix. The determinant is a scalar value that provides information about the matrix, such as whether it’s invertible.\n",
    "</li>\n",
    "<li><strong>np.linalg.eig : </strong>Computes the eigenvalues and eigenvectors of a square matrix. Eigenvalues describe the scaling factor of eigenvectors under linear transformations.\n",
    "</li>\n",
    "<li><strong>np.linalg.norm : </strong>Computes the norm (magnitude) of a vector or matrix, with options for different types of norms like L1, L2, etc.\n",
    "</li>\n",
    "<li><strong>np.outer : </strong>Computes the outer product of two vectors, resulting in a matrix.</li>\n",
    "</ul>\n",
    "\n",
    "</div>"
   ]
  },
  {
   "cell_type": "code",
   "execution_count": 1,
   "metadata": {},
   "outputs": [],
   "source": [
    "import numpy as np"
   ]
  },
  {
   "cell_type": "code",
   "execution_count": 2,
   "metadata": {},
   "outputs": [
    {
     "name": "stdout",
     "output_type": "stream",
     "text": [
      "[[1 2]\n",
      " [3 4]]\n",
      "--------------\n",
      "[[5 6]\n",
      " [7 8]]\n",
      "------------\n",
      "[[19 22]\n",
      " [43 50]]\n"
     ]
    }
   ],
   "source": [
    "A = np.array([[1, 2], [3, 4]])\n",
    "print(A)\n",
    "print(\"--------------\")\n",
    "B = np.array([[5, 6], [7, 8]])\n",
    "print(B)\n",
    "result = np.dot(A, B)\n",
    "print(\"------------\")\n",
    "print(result)"
   ]
  },
  {
   "cell_type": "code",
   "execution_count": 3,
   "metadata": {},
   "outputs": [
    {
     "name": "stdout",
     "output_type": "stream",
     "text": [
      "[[1 2]\n",
      " [3 4]]\n",
      "--------------\n",
      "[[-2.   1. ]\n",
      " [ 1.5 -0.5]]\n"
     ]
    }
   ],
   "source": [
    "A = np.array([[1, 2], [3, 4]])\n",
    "print(A)\n",
    "print(\"--------------\")\n",
    "inverse = np.linalg.inv(A)\n",
    "print(inverse)"
   ]
  },
  {
   "cell_type": "code",
   "execution_count": 4,
   "metadata": {},
   "outputs": [
    {
     "name": "stdout",
     "output_type": "stream",
     "text": [
      "[[1 2]\n",
      " [3 4]]\n",
      "---------------------\n",
      "-2.0000000000000004\n"
     ]
    }
   ],
   "source": [
    "A = np.array([[1, 2], [3, 4]])\n",
    "print(A)\n",
    "print(\"---------------------\")\n",
    "determinant = np.linalg.det(A)\n",
    "print(determinant)"
   ]
  },
  {
   "cell_type": "code",
   "execution_count": 5,
   "metadata": {},
   "outputs": [
    {
     "name": "stdout",
     "output_type": "stream",
     "text": [
      "[[1 2]\n",
      " [2 3]]\n",
      "---------------------\n",
      "[-0.23606798  4.23606798]\n",
      "[-0.85065081 -0.52573111]\n",
      "[ 0.52573111 -0.85065081]\n"
     ]
    }
   ],
   "source": [
    "A = np.array([[1, 2], [2, 3]])\n",
    "print(A)\n",
    "print(\"---------------------\")\n",
    "eigenvalues, eigenvectors = np.linalg.eig(A)\n",
    "print(eigenvalues)\n",
    "print(eigenvectors[0])\n",
    "print(eigenvectors[1])"
   ]
  },
  {
   "cell_type": "code",
   "execution_count": 6,
   "metadata": {},
   "outputs": [
    {
     "name": "stdout",
     "output_type": "stream",
     "text": [
      "[3 4]\n",
      "-------------------\n",
      "5.0\n"
     ]
    }
   ],
   "source": [
    "vector = np.array([3, 4])\n",
    "print(vector)\n",
    "print(\"-------------------\")\n",
    "norm = np.linalg.norm(vector)\n",
    "print(norm)"
   ]
  },
  {
   "cell_type": "code",
   "execution_count": 7,
   "metadata": {},
   "outputs": [
    {
     "name": "stdout",
     "output_type": "stream",
     "text": [
      "[1 2 3]\n",
      "------------------\n",
      "[4 5]\n",
      "------------------\n",
      "[[ 4  5]\n",
      " [ 8 10]\n",
      " [12 15]]\n"
     ]
    }
   ],
   "source": [
    "a = np.array([1, 2, 3])\n",
    "print(a)\n",
    "print(\"------------------\")\n",
    "b = np.array([4, 5])\n",
    "print(b)\n",
    "print(\"------------------\")\n",
    "outer_product = np.outer(a, b)\n",
    "print(outer_product)"
   ]
  }
 ],
 "metadata": {
  "kernelspec": {
   "display_name": "tf_2.2",
   "language": "python",
   "name": "python3"
  },
  "language_info": {
   "codemirror_mode": {
    "name": "ipython",
    "version": 3
   },
   "file_extension": ".py",
   "mimetype": "text/x-python",
   "name": "python",
   "nbconvert_exporter": "python",
   "pygments_lexer": "ipython3",
   "version": "3.7.9"
  }
 },
 "nbformat": 4,
 "nbformat_minor": 2
}

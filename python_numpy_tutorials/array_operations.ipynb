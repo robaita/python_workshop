{
 "cells": [
  {
   "cell_type": "markdown",
   "metadata": {},
   "source": [
    "<div id=\"BBox\" class=\"alert alert-info\" style=\"font-family:courier;color:black;justify-content:left;\">\n",
    "<h1>Introduction to NumPy</h1>\n",
    "<u>NumPy, short for Numerical Python </u>, is a fundamental library in Python used for <u>scientific computing and data analysis</u>. It provides a powerful array object, known as ndarray, which is a fast and flexible container for large datasets in Python. With its array-oriented computing capabilities, NumPy is essential for numerical operations and is a foundational library for many other scientific and machine learning libraries, such as SciPy, Pandas, and TensorFlow.\n",
    "<br><br>\n",
    "NumPy is known for its performance, enabling efficient numerical computations by leveraging optimized C and Fortran libraries, allowing operations on large datasets with minimal overhead. Its extensive functionality includes mathematical functions, linear algebra routines, Fourier transforms, and random number generation, making it a vital tool for data scientists and engineers alike.\n",
    "\n",
    "<h2>Key Features of NumPy</h2>\n",
    "<ul>\n",
    "<li> <strong>N-dimensional Arrays: </strong>Provides support for multi-dimensional arrays (ndarrays) that facilitate efficient storage and manipulation of large datasets.</li>\n",
    "\n",
    "<li><strong>Numerical Computation: </strong>Offers a comprehensive collection of mathematical functions for operations such as addition, subtraction, multiplication, division, and other statistical calculations.</li>\n",
    "\n",
    "<li><strong>Broadcasting: </strong>Enables arithmetic operations on arrays of different shapes and sizes, extending smaller arrays to match the dimensions of larger arrays for seamless calculations.</li>\n",
    "\n",
    "<li><strong>Indexing and Slicing: </strong>Supports advanced indexing and slicing techniques, allowing for easy data retrieval and manipulation.</li>\n",
    "\n",
    "<li><strong>Linear Algebra: </strong>Provides built-in functions for matrix operations, such as dot products, matrix inversion, eigenvalues, and singular value decomposition.</li>\n",
    "\n",
    "<li><strong>Random Number Generation: </strong>Contains a submodule for generating random numbers, which is useful for simulations, sampling, and initializing weights in machine learning models.</li>\n",
    "\n",
    "<li><strong>Integration with Other Libraries: </strong>Serves as the foundational library for many other scientific libraries, enabling seamless integration and interoperability with frameworks like SciPy, Pandas, and TensorFlow.</li>\n",
    "\n",
    "<li><strong>Data Type Flexibility: </strong>Supports a variety of data types, including integers, floats, and complex numbers, allowing for versatile data manipulation.</li>\n",
    "\n",
    "<li><strong>Performance Optimization: </strong>Utilizes optimized C and Fortran libraries, leading to significant performance improvements for numerical computations compared to pure Python implementations.</li>\n",
    "\n",
    "</ul>\n",
    "</div>"
   ]
  },
  {
   "cell_type": "code",
   "execution_count": 2,
   "metadata": {},
   "outputs": [],
   "source": [
    "#!pip install numpy"
   ]
  },
  {
   "cell_type": "markdown",
   "metadata": {},
   "source": [
    "<div id=\"BBox\" class=\"alert alert-info\" style=\"font-family:courier;color:black;justify-content:left;\">\n",
    "<h1> `np.array()` </h1>\n",
    "\n",
    "<strong>What It Is:</strong> <br>\n",
    "Creates a NumPy array from a list or sequence of values, enabling efficient storage and operations.\n",
    "\n",
    "<br>\n",
    "\n",
    "<strong>How It’s Used:</strong><br>\n",
    "arr = np.array([1, 2, 3, 4])\n",
    "\n",
    "<strong> Why it is important</strong><br>\n",
    "This function is the foundation of all NumPy operations, allowing data to be easily converted into an array format compatible with various mathematical operations.\n",
    "\n",
    "</div>"
   ]
  },
  {
   "cell_type": "code",
   "execution_count": 3,
   "metadata": {},
   "outputs": [],
   "source": [
    "import numpy as np"
   ]
  },
  {
   "cell_type": "code",
   "execution_count": 4,
   "metadata": {},
   "outputs": [
    {
     "name": "stdout",
     "output_type": "stream",
     "text": [
      "1D Array\n",
      "[1 2 3 4]\n",
      "2D Array\n",
      "[[1 2]\n",
      " [3 4]]\n",
      "3D Array\n",
      "[[[6 1 5]\n",
      "  [9 8 6]]\n",
      "\n",
      " [[9 0 2]\n",
      "  [2 3 9]]]\n"
     ]
    }
   ],
   "source": [
    "# 1D array\n",
    "arr_1d = np.array([1, 2, 3, 4])\n",
    "print(\"1D Array\")\n",
    "print(arr_1d)\n",
    "\n",
    "# 2D array\n",
    "arr_2d = np.array([[1, 2], [3, 4]])\n",
    "print(\"2D Array\")\n",
    "print(arr_2d)\n",
    "\n",
    "\n",
    "# 3D array\n",
    "print(\"3D Array\")\n",
    "V3d = np.array([[[ 6, 1, 5], [ 9, 8, 6]],\n",
    "                [[9, 0, 2], [2, 3, 9]]])\n",
    "\n",
    "print(V3d)"
   ]
  },
  {
   "cell_type": "markdown",
   "metadata": {},
   "source": [
    "<div id=\"BBox\" class=\"alert alert-info\" style=\"font-family:courier;color:black;justify-content:left;\">\n",
    "<h1> np.zeros() </h1>\n",
    "\n",
    "<strong>What It Is:</strong> <br>\n",
    "Generates an array filled with zeros of a specified shape.\n",
    "\n",
    "<br>\n",
    "\n",
    "<strong>How It’s Used:</strong><br>\n",
    "zeros = np.zeros((2, 3))\n",
    "\n",
    "<strong> Why it is important</strong><br>\n",
    "Useful for initializing arrays where the default value should be zero, such as matrices for model parameters.\n",
    "</div>"
   ]
  },
  {
   "cell_type": "code",
   "execution_count": 5,
   "metadata": {},
   "outputs": [
    {
     "name": "stdout",
     "output_type": "stream",
     "text": [
      "[[0. 0. 0.]\n",
      " [0. 0. 0.]]\n"
     ]
    }
   ],
   "source": [
    "zeros = np.zeros((2, 3))\n",
    "print(zeros)"
   ]
  },
  {
   "cell_type": "markdown",
   "metadata": {},
   "source": [
    "<div id=\"BBox\" class=\"alert alert-info\" style=\"font-family:courier;color:black;justify-content:left;\">\n",
    "<h1> np.ones() </h1>\n",
    "\n",
    "<strong>What It Is:</strong> <br>\n",
    "Creates an array filled with ones of a specified shape.\n",
    "<br>\n",
    "\n",
    "<strong>How It’s Used:</strong><br>\n",
    "ones = np.ones((2, 3))\n",
    "\n",
    "<strong> Why it is important</strong><br>\n",
    "Commonly used to initialize weights or matrices where a uniform value is needed. Ideal for creating bias vectors in ML models.\n",
    "</div>"
   ]
  },
  {
   "cell_type": "code",
   "execution_count": 6,
   "metadata": {},
   "outputs": [
    {
     "name": "stdout",
     "output_type": "stream",
     "text": [
      "[[1. 1. 1.]\n",
      " [1. 1. 1.]]\n"
     ]
    }
   ],
   "source": [
    "ones = np.ones((2, 3))\n",
    "print(ones)"
   ]
  },
  {
   "cell_type": "markdown",
   "metadata": {},
   "source": [
    "<div id=\"BBox\" class=\"alert alert-info\" style=\"font-family:courier;color:black;justify-content:left;\">\n",
    "<h1> np.full() </h1>\n",
    "\n",
    "<strong>What It Is:</strong> <br>\n",
    "Creates an array with a specified shape, filled with a constant value.\n",
    "<br>\n",
    "\n",
    "<strong>How It’s Used:</strong><br>\n",
    "full_arr = np.full((2, 2), 7)\n",
    "\n",
    "<strong> Why it is important</strong><br>\n",
    "Helpful for creating arrays with a specific fill value for testing, validation, or initialization.\n",
    "</div>"
   ]
  },
  {
   "cell_type": "code",
   "execution_count": 7,
   "metadata": {},
   "outputs": [
    {
     "name": "stdout",
     "output_type": "stream",
     "text": [
      "[[7 7]\n",
      " [7 7]]\n"
     ]
    }
   ],
   "source": [
    "full_arr = np.full((2, 2), 7)\n",
    "print(full_arr)"
   ]
  },
  {
   "cell_type": "markdown",
   "metadata": {},
   "source": [
    "<div id=\"BBox\" class=\"alert alert-info\" style=\"font-family:courier;color:black;justify-content:left;\">\n",
    "<h1> np.eye() </h1>\n",
    "\n",
    "<strong>What It Is:</strong> <br>\n",
    "Generates an identity matrix of specified size.\n",
    "<br>\n",
    "\n",
    "<strong>How It’s Used:</strong><br>\n",
    "identity = np.eye(3)\n",
    "\n",
    "<strong> Why it is important</strong><br>\n",
    "Identity matrices are essential in linear algebra and are commonly used in ML algorithms involving transformations or matrix multiplications.\n",
    "</div>"
   ]
  },
  {
   "cell_type": "code",
   "execution_count": 8,
   "metadata": {},
   "outputs": [
    {
     "name": "stdout",
     "output_type": "stream",
     "text": [
      "[[1. 0. 0.]\n",
      " [0. 1. 0.]\n",
      " [0. 0. 1.]]\n"
     ]
    }
   ],
   "source": [
    "identity = np.eye(3)\n",
    "print(identity)"
   ]
  },
  {
   "cell_type": "markdown",
   "metadata": {},
   "source": [
    "<div id=\"BBox\" class=\"alert alert-info\" style=\"font-family:courier;color:black;justify-content:left;\">\n",
    "<h1> np.arange() </h1>\n",
    "\n",
    "<strong>What It Is:</strong> <br>\n",
    "Creates an array with evenly spaced values within a specified range.\n",
    "<br>\n",
    "\n",
    "<strong>How It’s Used:</strong><br>\n",
    "arr_range = np.arange(0, 10, 2)\n",
    "\n",
    "<strong> Why it is important</strong><br>\n",
    "Useful for generating sequences, like a range of indices or parameter values, in ML.\n",
    "</div>"
   ]
  },
  {
   "cell_type": "code",
   "execution_count": 9,
   "metadata": {},
   "outputs": [
    {
     "name": "stdout",
     "output_type": "stream",
     "text": [
      "[0 2 4 6 8]\n"
     ]
    }
   ],
   "source": [
    "arr_range = np.arange(0, 10, 2)\n",
    "print(arr_range)"
   ]
  },
  {
   "cell_type": "markdown",
   "metadata": {},
   "source": [
    "<div id=\"BBox\" class=\"alert alert-info\" style=\"font-family:courier;color:black;justify-content:left;\">\n",
    "<h1> np.linespace() </h1>\n",
    "\n",
    "<strong>What It Is:</strong> <br>\n",
    "Generates an array with a specified number of evenly spaced values between two limits.\n",
    "<br>\n",
    "\n",
    "<strong>How It’s Used:</strong><br>\n",
    "lin_space = np.linspace(0, 1, 5)\n",
    "\n",
    "<strong> Why it is important</strong><br>\n",
    "Commonly used for generating values in a specified interval, which is useful in interpolation, plotting, and data sampling.\n",
    "</div>"
   ]
  },
  {
   "cell_type": "code",
   "execution_count": 10,
   "metadata": {},
   "outputs": [
    {
     "name": "stdout",
     "output_type": "stream",
     "text": [
      "[0.   0.25 0.5  0.75 1.  ]\n"
     ]
    }
   ],
   "source": [
    "lin_space = np.linspace(0, 1, 5)\n",
    "print(lin_space)"
   ]
  },
  {
   "cell_type": "markdown",
   "metadata": {},
   "source": [
    "<div id=\"BBox\" class=\"alert alert-info\" style=\"font-family:courier;color:black;justify-content:left;\">\n",
    "<h1> np.random.randn() </h1>\n",
    "\n",
    "<strong>What It Is:</strong> <br>\n",
    "Generates an array of random values from a standard normal distribution with a mean of 0 and a standard deviation of 1.\n",
    "\n",
    "<br>\n",
    "\n",
    "<strong>How It’s Used:</strong><br>\n",
    "rand_normal = np.random.randn(5)\n",
    "\n",
    "<strong> Why it is important</strong><br>\n",
    "Frequently used for initializing weights in ML models due to the normal distribution’s properties.\n",
    "</div>"
   ]
  },
  {
   "cell_type": "code",
   "execution_count": 11,
   "metadata": {},
   "outputs": [
    {
     "name": "stdout",
     "output_type": "stream",
     "text": [
      "[-0.64866517  0.28624966 -1.30224616 -0.7412715   1.72324011]\n"
     ]
    }
   ],
   "source": [
    "rand_normal = np.random.randn(5)\n",
    "print(rand_normal)"
   ]
  },
  {
   "cell_type": "markdown",
   "metadata": {},
   "source": [
    "<div id=\"BBox\" class=\"alert alert-info\" style=\"font-family:courier;color:black;justify-content:left;\">\n",
    "<h1> np.random.randint() </h1>\n",
    "\n",
    "<strong>What It Is:</strong> <br>\n",
    "Creates an array of random integers within a specified range.\n",
    "\n",
    "<br>\n",
    "\n",
    "<strong>How It’s Used:</strong><br>\n",
    "rand_ints = np.random.randint(1, 10, (2, 3))\n",
    "\n",
    "<strong> Why it is important</strong><br>\n",
    "Used for generating random integers for classification, sampling, or creating index-based random values.\n",
    "</div>"
   ]
  },
  {
   "cell_type": "code",
   "execution_count": 12,
   "metadata": {},
   "outputs": [
    {
     "name": "stdout",
     "output_type": "stream",
     "text": [
      "[[2 6 5]\n",
      " [8 5 3]]\n"
     ]
    }
   ],
   "source": [
    "rand_ints = np.random.randint(1, 10, (2, 3)) #Start, end and then dimension\n",
    "print(rand_ints)"
   ]
  },
  {
   "cell_type": "markdown",
   "metadata": {},
   "source": [
    "<div id=\"BBox\" class=\"alert alert-info\" style=\"font-family:courier;color:black;justify-content:left;\">\n",
    "<h1> Array Attributes </h1>\n",
    "<ul>\n",
    "<li><strong>ndarray.shape : </strong> Returns the shape of the array as a tuple of dimensions, representing the number of elements along each axis.</li>\n",
    "<li><strong>ndarray.size :</strong> Provides the total number of elements in the array.</li>\n",
    "<li><strong>ndarray.ndim : </strong>Returns the number of dimensions (axes) of the array.</li>\n",
    "<li><strong>ndarray.dtype : </strong>Shows the data type of elements stored in the array.</li>\n",
    "<li><strong>ndarray.itemsize : </strong>Returns the size in bytes of each element in the array.</li>\n",
    "<li><strong>ndarray.nbytes : </strong>Shows the total number of bytes consumed by the elements of the array.</li>\n",
    "<li><strong>ndarray.T : </strong>Provides the transpose of the array, swapping rows and columns in a 2D array.</li>\n",
    "<li><strong>ndarray.flat : </strong>Provides a 1D iterator over all elements of the array.</li>\n",
    "<li><strong>ndarray.reshape : </strong> Reshape array to the given dimension</li>\n",
    "<li><strong>ndarray.concatenate : </strong> Join a sequence of arrays along an existing axis.</li>\n",
    "<li><strong>ndarray.vstack : </strong> Stack arrays in sequence vertically (row wise).</li>\n",
    "<li><strong>ndarray.hstack : </strong>Stack arrays in sequence horizontally (column wise).</li>\n",
    "</ul>\n",
    "\n",
    "</div>"
   ]
  },
  {
   "cell_type": "code",
   "execution_count": 23,
   "metadata": {},
   "outputs": [
    {
     "name": "stdout",
     "output_type": "stream",
     "text": [
      "1D Array\n",
      "Shape:  (4,)\n",
      "Size:  4\n",
      "Dimension:  1\n",
      "Data Type:  int32\n",
      "Memory (bytes):  4\n",
      "Memory (Bytes):  16\n",
      "---------------------------------------\n",
      "3D Array\n",
      "1D Array\n",
      "Shape:  (2, 2, 3)\n",
      "Size:  12\n",
      "Dimension:  3\n",
      "Data Type:  int32\n",
      "Flat Array:  [6, 1, 5, 9, 8, 6, 9, 0, 2, 2, 3, 9]\n",
      "Transpose:  (3, 2, 2)\n",
      "Reshaped Array:  (3, 4)\n",
      "---------------------------------------\n",
      "[[1 2 3 4 5]\n",
      " [4 5 6 7 8]]\n",
      "(2, 5)\n",
      "---------------------------------------\n",
      "[[1 2 3 4 5 4 5 6 7 8]]\n",
      "(1, 10)\n",
      "---------------------------------------\n",
      "[[1 2 3 4 5]\n",
      " [4 5 6 7 8]]\n",
      "(2, 5)\n",
      "---------------------------------------\n",
      "[[1 2 3 4 5 4 5 6 7 8]]\n",
      "(1, 10)\n"
     ]
    }
   ],
   "source": [
    "# 1D array\n",
    "arr_1d = np.array([1, 2, 3, 4])\n",
    "temp = np.array([1, 2, 3, 4], dtype=np.int32)\n",
    "print(\"1D Array\")\n",
    "print(\"Shape: \",arr_1d.shape)\n",
    "print(\"Size: \",arr_1d.size)\n",
    "print(\"Dimension: \",arr_1d.ndim)\n",
    "print(\"Data Type: \",arr_1d.dtype)\n",
    "print(\"Memory (bytes): \",temp.itemsize)\n",
    "print(\"Memory (Bytes): \",temp.nbytes)\n",
    "\n",
    "# # 2D array\n",
    "# arr_2d = np.array([[1, 2], [3, 4]])\n",
    "# print(\"2D Array\")\n",
    "# print(arr_2d)\n",
    "\n",
    "print(\"---------------------------------------\")\n",
    "# 3D array\n",
    "print(\"3D Array\")\n",
    "V3d = np.array([[[ 6, 1, 5], [ 9, 8, 6]],\n",
    "                [[9, 0, 2], [2, 3, 9]]])\n",
    "\n",
    "print(\"1D Array\")\n",
    "print(\"Shape: \",V3d.shape)\n",
    "print(\"Size: \",V3d.size)\n",
    "print(\"Dimension: \",V3d.ndim)\n",
    "print(\"Data Type: \",V3d.dtype)\n",
    "\n",
    "flat_iter = [x for x in V3d.flat]\n",
    "print(\"Flat Array: \", flat_iter)\n",
    "\n",
    "transposed = V3d.T\n",
    "print(\"Transpose: \",transposed.shape)\n",
    "\n",
    "reshaped_array = np.reshape(V3d, (3, 4)) # C-like index ordering\n",
    "print(\"Reshaped Array: \",reshaped_array.shape)\n",
    "\n",
    "print(\"---------------------------------------\")\n",
    "A = np.array([[1, 2, 3, 4, 5]])\n",
    "B = np.array([[4, 5, 6, 7, 8]])\n",
    "C= np.concatenate((A, B), axis=0)\n",
    "print(C)\n",
    "print(C.shape)\n",
    "print(\"---------------------------------------\")\n",
    "A = np.array([[1, 2, 3, 4, 5]])\n",
    "B = np.array([[4, 5, 6, 7, 8]])\n",
    "D= np.concatenate((A, B), axis=1)\n",
    "print(D)\n",
    "print(D.shape)\n",
    "print(\"---------------------------------------\")\n",
    "C = np.vstack((A,B))\n",
    "print(C)\n",
    "print(C.shape)\n",
    "print(\"---------------------------------------\")\n",
    "D = np.hstack((A,B))\n",
    "print(D)\n",
    "print(D.shape)"
   ]
  }
 ],
 "metadata": {
  "kernelspec": {
   "display_name": "tf_2.2",
   "language": "python",
   "name": "python3"
  },
  "language_info": {
   "codemirror_mode": {
    "name": "ipython",
    "version": 3
   },
   "file_extension": ".py",
   "mimetype": "text/x-python",
   "name": "python",
   "nbconvert_exporter": "python",
   "pygments_lexer": "ipython3",
   "version": "3.7.9"
  }
 },
 "nbformat": 4,
 "nbformat_minor": 2
}

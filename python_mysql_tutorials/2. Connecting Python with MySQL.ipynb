{
 "cells": [
  {
   "cell_type": "markdown",
   "metadata": {},
   "source": [
    "<title>Connecting Python with MySQL</title>\n",
    "<div id=\"BBox\" class=\"alert alert-success\" style=\"font-family:courier;color:black;\">\n",
    "        <h1>Connecting Python with MySQL</h1>\n",
    "        <p>In this guide, we will walk you through the process of connecting Python with a MySQL database. You'll learn how to install the necessary libraries, securely manage database credentials, and establish a connection to MySQL from your Python code.</p>\n",
    "        <h2>1. Installing Required Libraries</h2>\n",
    "        <h3>What?</h3>\n",
    "        <p>To connect Python with MySQL, you'll need to install some external libraries. These libraries act as a bridge between Python and the MySQL server.</p>\n",
    "        <h3>Why is it Needed?</h3>\n",
    "        <p>Python, by default, does not have built-in support to communicate with MySQL. Libraries such as <code>mysql-connector-python</code> or <code>PyMySQL</code> provide the necessary tools to allow Python applications to interact with MySQL databases. Without these libraries, you won't be able to execute SQL queries from Python.</p>\n",
    "        <h3>How it Works</h3>\n",
    "        <p>To install these libraries, you can use <code>pip</code>, the Python package installer. Here’s how to install the required libraries:</p>\n",
    "        <pre><code>pip install mysql-connector-python\n",
    "pip install pymysql</code></pre>\n",
    "        <p>Once installed, these libraries enable the communication between Python and MySQL databases by using respective connectors and API calls.</p>\n",
    "        <h2>2. Establishing a Connection to the MySQL Server</h2>\n",
    "        <h3>What?</h3>\n",
    "        <p>After installing the necessary libraries, the next step is to establish a connection between Python and your MySQL database. This connection allows Python to send queries to the database and retrieve data.</p>\n",
    "        <h3>Why is it Needed?</h3>\n",
    "        <p>In order to interact with the MySQL database (perform CRUD operations ()), Python needs to establish a secure, stable connection with the MySQL server. This step ensures that Python can access the database, run queries, and manipulate data.</p>\n",
    "        <h3>How it Works</h3>\n",
    "        <p>You can establish the connection by passing database credentials such as the host, database name, username, and password to the connector. Here’s an example using <code>mysql-connector-python</code>:</p>\n",
    "        <pre><code>import mysql.connector\n",
    "# Establishing connection\n",
    "connection = mysql.connector.connect(\n",
    "    host=\"localhost\",\n",
    "    user=\"your_username\",\n",
    "    password=\"your_password\",\n",
    "    database=\"your_database\"\n",
    ")\n",
    "# Check if connection is successful\n",
    "if connection.is_connected():\n",
    "    print(\"Connection established successfully!\")\n",
    "    connection.close()\n",
    "else:\n",
    "    print(\"Failed to connect.\")</code></pre>\n",
    "        <p>The connection object is created using the <code>mysql.connector.connect()</code> function. After establishing a connection, it’s always a good practice to close it after completing your database operations.</p>\n",
    "        <h2>3. Handling Database Credentials Securely</h2>\n",
    "        <h3>What?</h3>\n",
    "        <p>Database credentials, including the username, password, and host details, should be securely managed in Python projects. This prevents accidental exposure of sensitive data.</p>\n",
    "        <h3>Why is it Needed?</h3>\n",
    "        <p>Hardcoding credentials directly into your code can lead to security risks, especially if the code is shared publicly or deployed to cloud services. Securing credentials ensures that only authorized users can access the database and that credentials are not exposed accidentally.</p>\n",
    "        <h3>How it Works</h3>\n",
    "        <p>One of the best practices to handle credentials securely is to use environment variables or configuration files to store sensitive information. Here’s an example of using the Python <code>os</code> module to retrieve credentials from environment variables:</p>\n",
    "        <pre><code>import os\n",
    "import mysql.connector\n",
    "\n",
    "# Load credentials from environment variables\n",
    "db_host = os.getenv('DB_HOST')\n",
    "db_user = os.getenv('DB_USER')\n",
    "db_password = os.getenv('DB_PASSWORD')\n",
    "db_name = os.getenv('DB_NAME')\n",
    "\n",
    "# Establishing a connection\n",
    "connection = mysql.connector.connect(\n",
    "    host=db_host,\n",
    "    user=db_user,\n",
    "    password=db_password,\n",
    "    database=db_name\n",
    ")\n",
    "\n",
    "# Check if connection is successful\n",
    "if connection.is_connected():\n",
    "    print(\"Connection established successfully!\")\n",
    "    connection.close()</code></pre>\n",
    "        <p>In this example, database credentials are stored in environment variables (<code>DB_HOST</code>, <code>DB_USER</code>, etc.), and the <code>os.getenv()</code> method retrieves them. This approach keeps your credentials secure while still allowing Python to access them.</p>\n",
    "            <strong>Note:</strong> Never hardcode sensitive information directly into your code. Use environment variables, encrypted files, or a credentials manager to store them securely.\n",
    "        <h2>Conclusion</h2>\n",
    "        <p>By following these steps, you can securely connect your Python applications to a MySQL database. Installing the necessary libraries, establishing a secure connection, and handling credentials carefully are key components for ensuring a smooth and secure database interaction.</p>\n",
    "<div>\n"
   ]
  },
  {
   "cell_type": "code",
   "execution_count": 1,
   "metadata": {},
   "outputs": [
    {
     "name": "stdout",
     "output_type": "stream",
     "text": [
      "Requirement already satisfied: mysql-connector-python in c:\\users\\nh0985\\anaconda3\\lib\\site-packages (8.0.29)\n",
      "Requirement already satisfied: protobuf>=3.0.0 in c:\\users\\nh0985\\anaconda3\\lib\\site-packages (from mysql-connector-python) (3.19.1)\n"
     ]
    }
   ],
   "source": [
    "!pip install mysql-connector-python"
   ]
  },
  {
   "cell_type": "code",
   "execution_count": 2,
   "metadata": {},
   "outputs": [
    {
     "name": "stdout",
     "output_type": "stream",
     "text": [
      "Requirement already satisfied: pymysql in c:\\users\\nh0985\\anaconda3\\lib\\site-packages (1.1.1)\n"
     ]
    }
   ],
   "source": [
    "!pip install pymysql"
   ]
  },
  {
   "cell_type": "code",
   "execution_count": 3,
   "metadata": {},
   "outputs": [
    {
     "name": "stdout",
     "output_type": "stream",
     "text": [
      "Connection established successfully!\n"
     ]
    }
   ],
   "source": [
    "import mysql.connector\n",
    "\n",
    "# Establishing connection\n",
    "connection = mysql.connector.connect(\n",
    "    host=\"localhost\",\n",
    "    user=\"root\",\n",
    "    password=\"Avinash@123\",\n",
    "    database=\"python_workshop\"\n",
    ")\n",
    "# Check if connection is successful\n",
    "if connection.is_connected():\n",
    "    print(\"Connection established successfully!\")\n",
    "    connection.close()\n",
    "else:\n",
    "    print(\"Failed to connect.\")"
   ]
  },
  {
   "cell_type": "code",
   "execution_count": 6,
   "metadata": {},
   "outputs": [
    {
     "name": "stdout",
     "output_type": "stream",
     "text": [
      "Connection established successfully!\n"
     ]
    }
   ],
   "source": [
    "import os\n",
    "import mysql.connector\n",
    "\n",
    "# Set an environment variable\n",
    "# os.environ[\"DB\"] = \"localhost;root;Avinash@123;python_workshop\"\n",
    "# # from dotenv import load_dotenv\n",
    "\n",
    "# load_dotenv()  # Load environment variables from .env file\n",
    "\n",
    "db_details = os.getenv('DB').split(\";\")\n",
    "db_host = db_details[0]\n",
    "db_user = db_details[1]\n",
    "db_password = db_details[2]\n",
    "db_name = db_details[3]\n",
    "\n",
    "connection = mysql.connector.connect(\n",
    "    host=db_host,\n",
    "    user=db_user,\n",
    "    password=db_password,\n",
    "    database=db_name\n",
    ")\n",
    "\n",
    "if connection.is_connected():\n",
    "    print(\"Connection established successfully!\")\n",
    "    connection.close()"
   ]
  },
  {
   "cell_type": "code",
   "execution_count": null,
   "metadata": {},
   "outputs": [],
   "source": []
  }
 ],
 "metadata": {
  "kernelspec": {
   "display_name": "Python 3 (ipykernel)",
   "language": "python",
   "name": "python3"
  },
  "language_info": {
   "codemirror_mode": {
    "name": "ipython",
    "version": 3
   },
   "file_extension": ".py",
   "mimetype": "text/x-python",
   "name": "python",
   "nbconvert_exporter": "python",
   "pygments_lexer": "ipython3",
   "version": "3.9.20"
  }
 },
 "nbformat": 4,
 "nbformat_minor": 4
}

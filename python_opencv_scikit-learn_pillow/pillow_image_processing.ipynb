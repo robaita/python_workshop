{
 "cells": [
  {
   "cell_type": "markdown",
   "metadata": {},
   "source": [
    "<div id=\"BBox\" class=\"alert alert-warning\" style=\"font-family:courier;color:black;justify-content:left;\">\n",
    "<h1> Image Processing with Pillow</h1>\n",
    "\n",
    "<strong>\n",
    "Pillow is an image processing library in Python, which makes it easy to work with images.\n",
    "</strong>\n",
    "</div>"
   ]
  },
  {
   "cell_type": "code",
   "execution_count": 2,
   "metadata": {},
   "outputs": [],
   "source": [
    "# pip install Pillow\n"
   ]
  },
  {
   "cell_type": "code",
   "execution_count": 3,
   "metadata": {},
   "outputs": [],
   "source": [
    "from PIL import Image"
   ]
  },
  {
   "cell_type": "code",
   "execution_count": 4,
   "metadata": {},
   "outputs": [],
   "source": [
    "# Open an image file\n",
    "img = Image.open('resized_image.jpg')\n",
    "img.show()\n"
   ]
  },
  {
   "cell_type": "code",
   "execution_count": 5,
   "metadata": {},
   "outputs": [
    {
     "name": "stdout",
     "output_type": "stream",
     "text": [
      "Image size: (1280, 720)\n",
      "Image format: JPEG\n"
     ]
    }
   ],
   "source": [
    "print(f\"Image size: {img.size}\")  # Width, Height\n",
    "print(f\"Image format: {img.format}\")  # Format type\n"
   ]
  },
  {
   "cell_type": "code",
   "execution_count": 8,
   "metadata": {},
   "outputs": [],
   "source": [
    "width = 150; height = 150\n",
    "img_resized = img.resize((width, height))\n",
    "img_resized.show()\n"
   ]
  },
  {
   "cell_type": "code",
   "execution_count": 15,
   "metadata": {},
   "outputs": [],
   "source": [
    "left = 130; top = 163; right = left + 575; bottom = top +390\n",
    "img_cropped = img.crop((left, top, right, bottom))\n",
    "img_cropped.show()\n"
   ]
  },
  {
   "cell_type": "code",
   "execution_count": 17,
   "metadata": {},
   "outputs": [],
   "source": [
    "img_rotated = img.rotate(25)  # Rotate 90 degrees\n",
    "img_rotated.show()"
   ]
  },
  {
   "cell_type": "code",
   "execution_count": 18,
   "metadata": {},
   "outputs": [],
   "source": [
    "from PIL import ImageFilter\n",
    "\n",
    "img_blurred = img.filter(ImageFilter.BLUR)\n",
    "img_blurred.show()"
   ]
  },
  {
   "cell_type": "code",
   "execution_count": 19,
   "metadata": {},
   "outputs": [],
   "source": [
    "img_gray = img.convert('L')\n",
    "img_gray.show()"
   ]
  },
  {
   "cell_type": "code",
   "execution_count": null,
   "metadata": {},
   "outputs": [],
   "source": [
    "from PIL import ImageEnhance\n",
    "\n",
    "enhancer = ImageEnhance.Brightness(img)\n",
    "img_brightened = enhancer.enhance(1.5)  # Increase brightness\n",
    "img_brightened.show()\n"
   ]
  },
  {
   "cell_type": "code",
   "execution_count": 22,
   "metadata": {},
   "outputs": [],
   "source": [
    "img_brightened.save('enhanced_image.png')  # Save as PNG"
   ]
  }
 ],
 "metadata": {
  "kernelspec": {
   "display_name": "tf_2.2",
   "language": "python",
   "name": "python3"
  },
  "language_info": {
   "codemirror_mode": {
    "name": "ipython",
    "version": 3
   },
   "file_extension": ".py",
   "mimetype": "text/x-python",
   "name": "python",
   "nbconvert_exporter": "python",
   "pygments_lexer": "ipython3",
   "version": "3.7.9"
  }
 },
 "nbformat": 4,
 "nbformat_minor": 2
}

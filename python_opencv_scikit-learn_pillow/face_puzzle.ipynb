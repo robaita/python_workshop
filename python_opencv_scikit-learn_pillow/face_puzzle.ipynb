{
 "cells": [
  {
   "cell_type": "code",
   "execution_count": 7,
   "metadata": {},
   "outputs": [],
   "source": [
    "import cv2\n",
    "import numpy as np\n",
    "import random\n",
    "\n",
    "# Load the image\n",
    "image = cv2.imread(\"images/4.jpeg\")  # Replace with the path to your face image\n",
    "height, width, _ = image.shape\n",
    "\n",
    "# Ensure the image dimensions are divisible by 4 for a perfect 4x4 grid\n",
    "grid_size = 4\n",
    "tile_height, tile_width = height // grid_size, width // grid_size\n",
    "\n",
    "# Split the image into 4x4 grid\n",
    "tiles = []\n",
    "for row in range(grid_size):\n",
    "    for col in range(grid_size):\n",
    "        x_start, y_start = col * tile_width, row * tile_height\n",
    "        tile = image[y_start:y_start + tile_height, x_start:x_start + tile_width]\n",
    "        tiles.append(tile)\n",
    "\n",
    "# Shuffle the tiles randomly\n",
    "random.shuffle(tiles)\n",
    "\n",
    "# Create a blank image to hold the shuffled tiles\n",
    "shuffled_image = np.zeros_like(image)\n",
    "\n",
    "# Arrange shuffled tiles in the blank image\n",
    "for idx, tile in enumerate(tiles):\n",
    "    row, col = divmod(idx, grid_size)\n",
    "    x_start, y_start = col * tile_width, row * tile_height\n",
    "    shuffled_image[y_start:y_start + tile_height, x_start:x_start + tile_width] = tile\n",
    "\n",
    "# Display the shuffled image\n",
    "cv2.imshow(\"Shuffled Puzzle\", shuffled_image)\n",
    "cv2.waitKey(0)\n",
    "cv2.destroyAllWindows()"
   ]
  }
 ],
 "metadata": {
  "kernelspec": {
   "display_name": "tf_2.2",
   "language": "python",
   "name": "python3"
  },
  "language_info": {
   "codemirror_mode": {
    "name": "ipython",
    "version": 3
   },
   "file_extension": ".py",
   "mimetype": "text/x-python",
   "name": "python",
   "nbconvert_exporter": "python",
   "pygments_lexer": "ipython3",
   "version": "3.7.9"
  }
 },
 "nbformat": 4,
 "nbformat_minor": 2
}

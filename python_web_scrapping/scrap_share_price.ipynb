{
 "cells": [
  {
   "cell_type": "code",
   "execution_count": 1,
   "metadata": {},
   "outputs": [],
   "source": [
    "import requests\n",
    "from bs4 import BeautifulSoup\n",
    "import time\n",
    "from datetime import datetime\n",
    "\n",
    "from IPython.core.display import HTML"
   ]
  },
  {
   "cell_type": "code",
   "execution_count": 2,
   "metadata": {},
   "outputs": [],
   "source": [
    "url1 = \"https://www.google.com/finance/quote/INFY:NSE\"\n",
    "url2 = \"https://www.google.com/finance/quote/500209:BOM\"\n",
    "\n",
    "# Define the time limit (3:30:00)\n",
    "closing_time = datetime.strptime('15:30:00', '%H:%M:%S').time()\n",
    "# print(closing_time)"
   ]
  },
  {
   "cell_type": "code",
   "execution_count": 3,
   "metadata": {},
   "outputs": [
    {
     "name": "stdout",
     "output_type": "stream",
     "text": [
      "Enter ticker name: TVSMOTOR\n"
     ]
    }
   ],
   "source": [
    "# Inputting the name of the Stock and Storing it in a Variable\n",
    "ticker = input(\"Enter ticker name: \")"
   ]
  },
  {
   "cell_type": "code",
   "execution_count": 5,
   "metadata": {},
   "outputs": [
    {
     "name": "stdout",
     "output_type": "stream",
     "text": [
      "21:04:41 | ₹2,670.00\n"
     ]
    }
   ],
   "source": [
    "stock_list = []\n",
    "\n",
    "while(True):\n",
    "    url = f\"https://www.google.com/finance/quote/{ticker}:NSE\"\n",
    "\n",
    "    responce = requests.get(url)\n",
    "    soup = BeautifulSoup(responce.text, 'html.parser')\n",
    "\n",
    "    # print(soup)\n",
    "\n",
    "    class1 = \"YMlKec fxKbKc\"\n",
    "    stock_price = soup.find(class_=class1).text\n",
    "    value = float(soup.find(class_=class1).text[1:].replace(\",\",\"\"))\n",
    "    stock_list.append(value)\n",
    "\n",
    "    # Get the current time\n",
    "    current_time = datetime.now().time()\n",
    "    c_time = datetime.now().strftime(\"%H:%M:%S\")\n",
    "    # Print the current time\n",
    "    print(f'{c_time} | {stock_price}')\n",
    "\n",
    "    if current_time > closing_time:\n",
    "        break\n",
    "\n",
    "    time.sleep(3)"
   ]
  },
  {
   "cell_type": "code",
   "execution_count": null,
   "metadata": {},
   "outputs": [],
   "source": []
  }
 ],
 "metadata": {
  "kernelspec": {
   "display_name": "Python 3",
   "language": "python",
   "name": "python3"
  },
  "language_info": {
   "codemirror_mode": {
    "name": "ipython",
    "version": 3
   },
   "file_extension": ".py",
   "mimetype": "text/x-python",
   "name": "python",
   "nbconvert_exporter": "python",
   "pygments_lexer": "ipython3",
   "version": "3.12.4"
  }
 },
 "nbformat": 4,
 "nbformat_minor": 4
}

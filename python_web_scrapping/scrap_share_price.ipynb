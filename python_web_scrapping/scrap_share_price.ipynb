{
 "cells": [
  {
   "cell_type": "code",
   "execution_count": 1,
   "metadata": {},
   "outputs": [],
   "source": [
    "import requests\n",
    "from bs4 import BeautifulSoup\n",
    "import time\n",
    "from datetime import datetime\n",
    "\n",
    "from IPython.core.display import HTML"
   ]
  },
  {
   "cell_type": "code",
   "execution_count": 2,
   "metadata": {},
   "outputs": [],
   "source": [
    "url1 = \"https://www.google.com/finance/quote/INFY:NSE\"\n",
    "url2 = \"https://www.google.com/finance/quote/500209:BOM\"\n",
    "\n",
    "# Define the time limit (3:30:00)\n",
    "closing_time = datetime.strptime('15:30:00', '%H:%M:%S').time()\n",
    "# print(closing_time)"
   ]
  },
  {
   "cell_type": "code",
   "execution_count": 3,
   "metadata": {},
   "outputs": [
    {
     "name": "stdout",
     "output_type": "stream",
     "text": [
      "Enter ticker name: TVSMOTOR\n"
     ]
    }
   ],
   "source": [
    "# Inputting the name of the Stock and Storing it in a Variable\n",
    "ticker = input(\"Enter ticker name: \")"
   ]
  },
  {
   "cell_type": "code",
   "execution_count": 4,
   "metadata": {},
   "outputs": [
    {
     "name": "stdout",
     "output_type": "stream",
     "text": [
      "11:24:12 | ₹2,520.05\n",
      "11:24:16 | ₹2,520.05\n",
      "11:24:20 | ₹2,520.05\n",
      "11:24:24 | ₹2,520.05\n",
      "11:24:28 | ₹2,520.00\n",
      "11:24:32 | ₹2,521.60\n",
      "11:24:36 | ₹2,521.60\n",
      "11:24:40 | ₹2,522.90\n",
      "11:24:44 | ₹2,522.90\n",
      "11:24:48 | ₹2,522.90\n",
      "11:24:52 | ₹2,522.90\n",
      "11:24:56 | ₹2,523.55\n",
      "11:25:01 | ₹2,523.55\n",
      "11:25:05 | ₹2,523.55\n",
      "11:25:09 | ₹2,524.65\n",
      "11:25:13 | ₹2,524.65\n",
      "11:25:17 | ₹2,526.00\n",
      "11:25:21 | ₹2,526.15\n",
      "11:25:25 | ₹2,526.15\n",
      "11:25:29 | ₹2,528.40\n",
      "11:25:33 | ₹2,528.40\n",
      "11:25:37 | ₹2,530.00\n",
      "11:25:41 | ₹2,530.00\n",
      "11:25:45 | ₹2,530.00\n",
      "11:25:49 | ₹2,532.95\n",
      "11:25:53 | ₹2,532.95\n",
      "11:25:57 | ₹2,532.95\n",
      "11:26:01 | ₹2,532.95\n",
      "11:26:05 | ₹2,532.40\n",
      "11:26:08 | ₹2,532.40\n",
      "11:26:12 | ₹2,532.05\n",
      "11:26:16 | ₹2,532.05\n",
      "11:26:20 | ₹2,532.05\n",
      "11:26:24 | ₹2,532.05\n",
      "11:26:28 | ₹2,529.70\n",
      "11:26:32 | ₹2,529.70\n",
      "11:26:36 | ₹2,531.55\n",
      "11:26:40 | ₹2,531.55\n",
      "11:26:44 | ₹2,531.55\n",
      "11:26:48 | ₹2,529.00\n",
      "11:26:52 | ₹2,529.00\n",
      "11:26:58 | ₹2,529.40\n",
      "11:27:03 | ₹2,528.85\n",
      "11:27:07 | ₹2,528.85\n",
      "11:27:11 | ₹2,528.85\n",
      "11:27:14 | ₹2,528.85\n",
      "11:27:19 | ₹2,529.80\n",
      "11:27:22 | ₹2,529.80\n",
      "11:27:27 | ₹2,530.00\n",
      "11:27:31 | ₹2,530.00\n",
      "11:27:36 | ₹2,529.95\n",
      "11:27:41 | ₹2,529.95\n",
      "11:27:45 | ₹2,529.95\n",
      "11:27:49 | ₹2,529.30\n",
      "11:27:53 | ₹2,529.30\n",
      "11:27:58 | ₹2,529.25\n",
      "11:28:02 | ₹2,528.95\n",
      "11:28:06 | ₹2,528.95\n",
      "11:28:10 | ₹2,528.95\n",
      "11:28:14 | ₹2,528.95\n",
      "11:28:18 | ₹2,527.00\n",
      "11:28:22 | ₹2,527.00\n",
      "11:28:26 | ₹2,528.50\n",
      "11:28:30 | ₹2,528.50\n",
      "11:28:34 | ₹2,529.30\n",
      "11:28:38 | ₹2,529.30\n"
     ]
    },
    {
     "ename": "KeyboardInterrupt",
     "evalue": "",
     "output_type": "error",
     "traceback": [
      "\u001b[1;31m---------------------------------------------------------------------------\u001b[0m",
      "\u001b[1;31mKeyboardInterrupt\u001b[0m                         Traceback (most recent call last)",
      "\u001b[1;32m<ipython-input-4-6fd92f15fbbb>\u001b[0m in \u001b[0;36m<module>\u001b[1;34m\u001b[0m\n\u001b[0;32m     23\u001b[0m         \u001b[1;32mbreak\u001b[0m\u001b[1;33m\u001b[0m\u001b[1;33m\u001b[0m\u001b[0m\n\u001b[0;32m     24\u001b[0m \u001b[1;33m\u001b[0m\u001b[0m\n\u001b[1;32m---> 25\u001b[1;33m     \u001b[0mtime\u001b[0m\u001b[1;33m.\u001b[0m\u001b[0msleep\u001b[0m\u001b[1;33m(\u001b[0m\u001b[1;36m3\u001b[0m\u001b[1;33m)\u001b[0m\u001b[1;33m\u001b[0m\u001b[1;33m\u001b[0m\u001b[0m\n\u001b[0m",
      "\u001b[1;31mKeyboardInterrupt\u001b[0m: "
     ]
    }
   ],
   "source": [
    "stock_list = []\n",
    "\n",
    "while(True):\n",
    "    url = f\"https://www.google.com/finance/quote/{ticker}:NSE\"\n",
    "\n",
    "    responce = requests.get(url)\n",
    "    soup = BeautifulSoup(responce.text, 'html.parser')\n",
    "\n",
    "    # print(soup)\n",
    "\n",
    "    class1 = \"YMlKec fxKbKc\"#\"YMlKec fxKbKc\"#YMlKec fxKbKc\n",
    "    stock_price = soup.find(class_=class1).text\n",
    "    value = float(soup.find(class_=class1).text[1:].replace(\",\",\"\"))\n",
    "    stock_list.append(value)\n",
    "\n",
    "    # Get the current time\n",
    "    current_time = datetime.now().time()\n",
    "    c_time = datetime.now().strftime(\"%H:%M:%S\")\n",
    "    # Print the current time\n",
    "    print(f'{c_time} | {stock_price}')\n",
    "\n",
    "    if current_time > closing_time:\n",
    "        break\n",
    "\n",
    "    time.sleep(3)"
   ]
  },
  {
   "cell_type": "code",
   "execution_count": null,
   "metadata": {},
   "outputs": [],
   "source": []
  }
 ],
 "metadata": {
  "kernelspec": {
   "display_name": "Python 3",
   "language": "python",
   "name": "python3"
  },
  "language_info": {
   "codemirror_mode": {
    "name": "ipython",
    "version": 3
   },
   "file_extension": ".py",
   "mimetype": "text/x-python",
   "name": "python",
   "nbconvert_exporter": "python",
   "pygments_lexer": "ipython3",
   "version": "3.8.3"
  }
 },
 "nbformat": 4,
 "nbformat_minor": 4
}

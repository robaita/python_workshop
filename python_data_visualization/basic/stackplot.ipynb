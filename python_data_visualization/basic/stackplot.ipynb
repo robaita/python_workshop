{
 "cells": [
  {
   "cell_type": "markdown",
   "metadata": {},
   "source": [
    "<div id=\"BBox\" class=\"alert alert-success\" style=\"font-family:courier;color:black;justify-content:left;\">\n",
    "<h1>Stack Plot</h1>\n",
    "A stack plot (also known as a stacked line plot) in Matplotlib is a way to visualize multiple time series or datasets on the same plot, where the area under each dataset is stacked on top of the previous one. This type of plot is particularly useful for showing the cumulative effect of different components over time or across categories. Stack plots help visualize how individual components contribute to the whole. <br><br>\n",
    "<strong>Key Features of a Stack Plot:</strong>\n",
    "<ul>\n",
    "  <li>Stacked Areas: Each dataset is represented by an area that is stacked on top of the others, making it easy to see the contribution of each component to the total.</li>\n",
    "  <li>Time Series Representation: Often used for time series data, allowing for the visualization of changes over time.</li>\n",
    "  <li>Comparison of Components: It helps compare the sizes of different components relative to the total.</li>\n",
    "</ul>\n",
    "      \n",
    "\n",
    "<strong>Use Case:</strong>\n",
    "  <ul>\n",
    "      <li>Financial Data: Showing the breakdown of revenue sources over time.</li>\n",
    "      <li>Population Studies: Visualizing population distributions across age groups or other categories over time.</li>\n",
    "      <li>Resource Usage: Displaying cumulative resource usage (e.g., energy consumption) across different sectors.</li>\n",
    "  </ul> \n",
    "\n",
    "</div>"
   ]
  },
  {
   "cell_type": "code",
   "execution_count": 1,
   "metadata": {},
   "outputs": [
    {
     "data": {
      "image/png": "[encoded data removed]",
      "text/plain": [
       "<Figure size 432x288 with 1 Axes>"
      ]
     },
     "metadata": {
      "needs_background": "light"
     },
     "output_type": "display_data"
    }
   ],
   "source": [
    "import matplotlib.pyplot as plt\n",
    "import numpy as np\n",
    "\n",
    "# make data\n",
    "x = np.arange(0, 10, 2)\n",
    "ay = [1, 1.25, 2, 2.75, 3]\n",
    "by = [1, 1, 1, 1, 1]\n",
    "cy = [2, 1, 2, 1, 2]\n",
    "y = np.vstack([ay, by, cy])\n",
    "\n",
    "# plot\n",
    "fig, ax = plt.subplots()\n",
    "\n",
    "ax.stackplot(x, y)\n",
    "\n",
    "ax.set(xlim=(0, 8), xticks=np.arange(1, 8),\n",
    "       ylim=(0, 8), yticks=np.arange(1, 8))\n",
    "\n",
    "plt.show()"
   ]
  },
  {
   "cell_type": "code",
   "execution_count": null,
   "metadata": {},
   "outputs": [],
   "source": []
  }
 ],
 "metadata": {
  "kernelspec": {
   "display_name": "Python 3",
   "language": "python",
   "name": "python3"
  },
  "language_info": {
   "codemirror_mode": {
    "name": "ipython",
    "version": 3
   },
   "file_extension": ".py",
   "mimetype": "text/x-python",
   "name": "python",
   "nbconvert_exporter": "python",
   "pygments_lexer": "ipython3",
   "version": "3.8.3"
  }
 },
 "nbformat": 4,
 "nbformat_minor": 1
}

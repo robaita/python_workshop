{
 "cells": [
  {
   "cell_type": "markdown",
   "metadata": {},
   "source": [
    "<div id=\"BBox\" class=\"alert alert-success\" style=\"font-family:courier;color:black;justify-content:left;\">\n",
    "<h1>Fill between Plot</h1>\n",
    "<strong>What it does:</strong>\n",
    "A fill_between plot is a type of plot in Matplotlib used to fill the area between two horizontal curves or lines. It is often used to visualize the range of values between two data series or to highlight regions under a curve, making it easier to see the area between them. This type of plot is useful in various applications, including statistical data visualization, financial charts, and scientific data analysis. <br><br>\n",
    "<strong>Key Features of a Fill Between Plot:</strong>\n",
    "<ul>\n",
    "  <li>Filled Area: The area between two lines or curves is filled with color, allowing for visual comparison.</li>\n",
    "  <li>Curves/Lines: Typically, one or more lines define the boundaries of the filled area.</li>\n",
    "  <li>Base Value: You can specify a baseline value for filling.</li>\n",
    "</ul>\n",
    "    \n",
    "<strong>Explanation:</strong>\n",
    "<ul>\n",
    "  <li>x: A range of values over which the functions are defined.</li>\n",
    "  <li>y1 and y2: Two functions (in this case, sin(x) and cos(x)) whose areas will be filled between them.</li>\n",
    "  <li>plt.fill_between(x, y1, y2): This function fills the area between the two curves defined by y1 and y2.</li>\n",
    "  <ul>\n",
    "      <li>color: Specifies the fill color.</li>\n",
    "      <li>alpha: Controls the transparency of the filled area (0 is completely transparent, and 1 is completely opaque).</li>\n",
    "      <li></li>\n",
    "  </ul>  \n",
    "</ul>    \n",
    "\n",
    "<strong>Use Case:</strong>\n",
    "  <ul>\n",
    "      <li>Shading Areas: Highlighting areas of interest, such as confidence intervals in statistical data.</li>\n",
    "      <li>Comparison of Functions: Showing the relationship between two functions and their differences.</li>\n",
    "      <li>Visualizing Ranges: Displaying uncertainty or variability between measurements or predictions.</li>\n",
    "  </ul> \n",
    "\n",
    "</div>"
   ]
  },
  {
   "cell_type": "code",
   "execution_count": 5,
   "metadata": {},
   "outputs": [
    {
     "data": {
      "image/png": "[encoded data removed]",
      "text/plain": [
       "<Figure size 432x288 with 1 Axes>"
      ]
     },
     "metadata": {
      "needs_background": "light"
     },
     "output_type": "display_data"
    }
   ],
   "source": [
    "import matplotlib.pyplot as plt\n",
    "import numpy as np\n",
    "\n",
    "# make data\n",
    "np.random.seed(1)\n",
    "x = np.linspace(0, 8, 16)\n",
    "y1 = 3 + 4*x/8 + np.random.uniform(0.0, 0.5, len(x))\n",
    "y2 = 1 + 2*x/8 + np.random.uniform(0.0, 0.5, len(x))\n",
    "\n",
    "# plot\n",
    "fig, ax = plt.subplots()\n",
    "\n",
    "ax.fill_between(x, y1, y2, alpha=.5, linewidth=0)\n",
    "ax.plot(x, (y1 + y2)/2, 'c-', linewidth=2)\n",
    "\n",
    "ax.set(xlim=(0, 8), xticks=np.arange(1, 8),\n",
    "       ylim=(0, 8), yticks=np.arange(1, 8))\n",
    "\n",
    "plt.show()"
   ]
  },
  {
   "cell_type": "code",
   "execution_count": null,
   "metadata": {},
   "outputs": [],
   "source": []
  }
 ],
 "metadata": {
  "kernelspec": {
   "display_name": "tf_2.2",
   "language": "python",
   "name": "python3"
  },
  "language_info": {
   "codemirror_mode": {
    "name": "ipython",
    "version": 3
   },
   "file_extension": ".py",
   "mimetype": "text/x-python",
   "name": "python",
   "nbconvert_exporter": "python",
   "pygments_lexer": "ipython3",
   "version": "3.7.9"
  }
 },
 "nbformat": 4,
 "nbformat_minor": 1
}

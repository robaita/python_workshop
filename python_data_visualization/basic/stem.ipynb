{
 "cells": [
  {
   "cell_type": "markdown",
   "metadata": {},
   "source": [
    "<div id=\"BBox\" class=\"alert alert-success\" style=\"font-family:courier;color:black;justify-content:left;\">\n",
    "<h1>Stem Plot</h1>\n",
    "<strong>What it does:</strong>\n",
    "A stem plot (also known as a stem-and-leaf plot) in Matplotlib is a graphical method used to display discrete data points. It is particularly useful when you want to visualize individual data points as stems and leaves, with the \"stems\" being lines extending from a baseline and the \"leaves\" being markers at the end of those lines. Stem plots are commonly used to visualize functions that have distinct or sparse data points, like sampled signals or discrete data. <br><br>\n",
    "<span style=\"font-family: Courier New, monospace; color: navy; font-weight: bold;\">\n",
    "plt.stem(): This function generates the stem plot, drawing a vertical line (stem) from the x-axis to each data point, and a marker (leaf) at the end of each stem.\n",
    "</span>\n",
    "</div>"
   ]
  },
  {
   "cell_type": "code",
   "execution_count": 1,
   "metadata": {},
   "outputs": [
    {
     "name": "stderr",
     "output_type": "stream",
     "text": [
      "<ipython-input-1-30700ad2b1eb>:11: UserWarning: In Matplotlib 3.3 individual lines on a stem plot will be added as a LineCollection instead of individual lines. This significantly improves the performance of a stem plot. To remove this warning and switch to the new behaviour, set the \"use_line_collection\" keyword argument to True.\n",
      "  ax.stem(x, y)\n"
     ]
    },
    {
     "data": {
      "image/png": "[encoded data removed]",
      "text/plain": [
       "<Figure size 432x288 with 1 Axes>"
      ]
     },
     "metadata": {
      "needs_background": "light"
     },
     "output_type": "display_data"
    }
   ],
   "source": [
    "import matplotlib.pyplot as plt\n",
    "import numpy as np\n",
    "\n",
    "# make data\n",
    "x = 0.5 + np.arange(8)\n",
    "y = [4.8, 5.5, 3.5, 4.6, 6.5, 6.6, 2.6, 3.0]\n",
    "\n",
    "# plot\n",
    "fig, ax = plt.subplots()\n",
    "\n",
    "ax.stem(x, y)\n",
    "\n",
    "ax.set(xlim=(0, 8), xticks=np.arange(1, 8),\n",
    "       ylim=(0, 8), yticks=np.arange(1, 8))\n",
    "\n",
    "plt.show()"
   ]
  },
  {
   "cell_type": "code",
   "execution_count": null,
   "metadata": {},
   "outputs": [],
   "source": []
  }
 ],
 "metadata": {
  "kernelspec": {
   "display_name": "Python 3",
   "language": "python",
   "name": "python3"
  },
  "language_info": {
   "codemirror_mode": {
    "name": "ipython",
    "version": 3
   },
   "file_extension": ".py",
   "mimetype": "text/x-python",
   "name": "python",
   "nbconvert_exporter": "python",
   "pygments_lexer": "ipython3",
   "version": "3.8.3"
  }
 },
 "nbformat": 4,
 "nbformat_minor": 1
}

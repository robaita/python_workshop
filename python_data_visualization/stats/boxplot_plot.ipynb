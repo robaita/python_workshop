{
 "cells": [
  {
   "cell_type": "markdown",
   "metadata": {},
   "source": [
    "<div id=\"BBox\" class=\"alert alert-success\" style=\"font-family:courier;color:black;justify-content:left;\">\n",
    "<h1>Box Plot</h1>\n",
    "<strong>What it does:</strong>\n",
    "A box plot (or box-and-whisker plot) is used to display the distribution of data and identify outliers. It shows the median, quartiles, and possible outliers of the dataset. <br><br>\n",
    "<span style=\"font-family: Courier New, monospace; color: navy; font-weight: bold;\">\n",
    "This example uses boxplot() to visualize the spread of the data values, with the box representing the interquartile range (IQR).\n",
    "</span>\n",
    "</div>"
   ]
  },
  {
   "cell_type": "code",
   "execution_count": 26,
   "metadata": {},
   "outputs": [],
   "source": [
    "# !pip install yfinance "
   ]
  },
  {
   "cell_type": "code",
   "execution_count": 27,
   "metadata": {},
   "outputs": [],
   "source": [
    "import matplotlib.pyplot as plt\n",
    "import numpy as np\n",
    "import yfinance as yf\n",
    "import pandas as pd"
   ]
  },
  {
   "cell_type": "code",
   "execution_count": 28,
   "metadata": {},
   "outputs": [
    {
     "name": "stderr",
     "output_type": "stream",
     "text": [
      "[*********************100%***********************]  1 of 1 completed\n"
     ]
    }
   ],
   "source": [
    "# Fetch historical stock data\n",
    "data = yf.download('AAPL', start='2023-01-01', end='2023-10-27')"
   ]
  },
  {
   "cell_type": "code",
   "execution_count": 33,
   "metadata": {},
   "outputs": [
    {
     "ename": "IndexError",
     "evalue": "only integers, slices (`:`), ellipsis (`...`), numpy.newaxis (`None`) and integer or boolean arrays are valid indices",
     "output_type": "error",
     "traceback": [
      "\u001b[1;31m---------------------------------------------------------------------------\u001b[0m",
      "\u001b[1;31mIndexError\u001b[0m                                Traceback (most recent call last)",
      "\u001b[1;32m<ipython-input-33-caaf75586391>\u001b[0m in \u001b[0;36m<module>\u001b[1;34m\u001b[0m\n\u001b[0;32m      1\u001b[0m \u001b[1;31m# Extract the 'Close' prices\u001b[0m\u001b[1;33m\u001b[0m\u001b[1;33m\u001b[0m\u001b[1;33m\u001b[0m\u001b[0m\n\u001b[1;32m----> 2\u001b[1;33m \u001b[0mclose_prices\u001b[0m \u001b[1;33m=\u001b[0m \u001b[0mdata\u001b[0m\u001b[1;33m[\u001b[0m\u001b[1;34m'Close'\u001b[0m\u001b[1;33m]\u001b[0m\u001b[1;33m\u001b[0m\u001b[1;33m\u001b[0m\u001b[0m\n\u001b[0m\u001b[0;32m      3\u001b[0m \u001b[1;33m\u001b[0m\u001b[0m\n\u001b[0;32m      4\u001b[0m \u001b[1;31m# Create a box plot\u001b[0m\u001b[1;33m\u001b[0m\u001b[1;33m\u001b[0m\u001b[1;33m\u001b[0m\u001b[0m\n\u001b[0;32m      5\u001b[0m \u001b[0mplt\u001b[0m\u001b[1;33m.\u001b[0m\u001b[0mfigure\u001b[0m\u001b[1;33m(\u001b[0m\u001b[0mfigsize\u001b[0m\u001b[1;33m=\u001b[0m\u001b[1;33m(\u001b[0m\u001b[1;36m10\u001b[0m\u001b[1;33m,\u001b[0m \u001b[1;36m6\u001b[0m\u001b[1;33m)\u001b[0m\u001b[1;33m)\u001b[0m\u001b[1;33m\u001b[0m\u001b[1;33m\u001b[0m\u001b[0m\n",
      "\u001b[1;31mIndexError\u001b[0m: only integers, slices (`:`), ellipsis (`...`), numpy.newaxis (`None`) and integer or boolean arrays are valid indices"
     ]
    }
   ],
   "source": [
    "# Extract the 'Close' prices\n",
    "close_prices = data['Close']\n",
    "\n",
    "# Create a box plot\n",
    "plt.figure(figsize=(10, 6))\n",
    "plt.boxplot(close_prices, vert=False)  # Horizontal box plot\n",
    "\n",
    "# Add titles and labels\n",
    "plt.title('Box Plot of Apple Inc. Closing Prices (Oct, 2023)')\n",
    "plt.xlabel('Closing Price ($)')\n",
    "plt.grid()\n",
    "\n",
    "# Show the plot\n",
    "plt.show()"
   ]
  },
  {
   "cell_type": "code",
   "execution_count": 30,
   "metadata": {},
   "outputs": [
    {
     "name": "stdout",
     "output_type": "stream",
     "text": [
      "[[ 4.66448313  5.71527897  2.06824963]\n",
      " [ 2.98952019  5.62133597  3.09989305]\n",
      " [ 3.33188948  5.10854853  4.00536429]\n",
      " [ 2.78174974  5.43302619  5.50379672]\n",
      " [ 1.79366791  6.02827408  4.28578766]\n",
      " [ 3.55642202  3.86339779  4.1689211 ]\n",
      " [ 4.85567125  3.92019511  1.52783965]\n",
      " [ 0.82078463  5.26607016  6.98120916]\n",
      " [ 4.40461407  6.67262221  4.12393652]\n",
      " [ 4.74749547  4.72875201  4.76650523]\n",
      " [ 2.66585351  4.45069099  4.16588537]\n",
      " [ 2.40482248  6.30847308  4.2437666 ]\n",
      " [ 3.50026249  4.66236766  5.57059033]\n",
      " [ 2.08503812  5.66023155  3.56141014]\n",
      " [ 1.8257083   4.51066278  2.99426107]\n",
      " [ 2.73412795  4.66085975  4.39021242]\n",
      " [ 3.70644084  4.85257974  3.96761833]\n",
      " [ 3.36136775  4.46012093  4.88520002]\n",
      " [ 4.05278092  5.2035808   6.99337958]\n",
      " [ 4.14682367  4.88772753  3.54727444]\n",
      " [ 2.70977218  4.4982711   5.41098144]\n",
      " [ 2.12773746  4.91887782  3.3383799 ]\n",
      " [ 4.30772857  3.58144397  3.54687602]\n",
      " [ 2.84761789  5.31935642  4.57612863]\n",
      " [ 2.73026263  5.98907246  4.39344222]\n",
      " [ 6.08456382  3.49167851  4.77575083]\n",
      " [ 1.69358433  4.20199118  6.48135574]\n",
      " [ 5.18101769  3.14381452  3.72153288]\n",
      " [ 2.91769019  2.86828789  3.93896186]\n",
      " [ 3.49167652  5.21726515  1.50700779]\n",
      " [ 4.38463529  5.24454398  3.92260996]\n",
      " [ 2.0576338   5.71195902  5.14783644]\n",
      " [ 2.39738358  5.08958761  5.03374828]\n",
      " [ 0.55685985  5.11747566  1.61567889]\n",
      " [ 1.84636342  5.46975143  3.81954155]\n",
      " [ 2.49982706  4.70401615  5.06026076]\n",
      " [ 3.88353807  4.21273107  4.36617591]\n",
      " [ 2.41149094  7.40432561  3.07580408]\n",
      " [ 2.60896405  4.65111808  3.4512172 ]\n",
      " [ 3.17638021  5.27304932  1.97678657]\n",
      " [ 2.2836083   3.67955245  5.54525666]\n",
      " [ 6.08165635  6.38323223  4.43279139]\n",
      " [ 4.27814513  5.16681027  6.07089578]\n",
      " [ 3.83486201  4.77005336  2.58806101]\n",
      " [ 2.20004674  5.31383052  2.46770502]\n",
      " [ 2.72275858  6.33992631  4.03663714]\n",
      " [ 5.48173218  6.4471656   3.64046323]\n",
      " [ 1.30086178  4.95195867  3.39901582]\n",
      " [ 3.47219136  6.61440797  2.59611996]\n",
      " [ 2.51409007  5.33234995  5.41871647]\n",
      " [ 3.63839301  5.41429764  5.68068678]\n",
      " [ 3.61689415  4.76299582  4.07160644]\n",
      " [ 2.11616069  5.54666484  5.17812551]\n",
      " [-0.72449596  6.21814885  3.9293491 ]\n",
      " [ 3.57611057  5.66237401  1.13112084]\n",
      " [ 1.50508836  4.66689884  3.01076154]\n",
      " [ 3.34271598  4.48509008  1.861161  ]\n",
      " [ 3.76537164  6.10012937  4.70544066]\n",
      " [ 2.1090007   4.73914052  4.68553508]\n",
      " [ 3.75399881  6.00686114  3.63196749]\n",
      " [ 1.22389936  4.32105323  4.66735601]\n",
      " [ 3.929968    7.22504964  4.14647678]\n",
      " [ 3.30576815  4.82270118  3.49283809]\n",
      " [ 3.97721899  5.35347761  3.74090064]\n",
      " [ 1.65037827  4.87693017  3.51127227]\n",
      " [ 4.56896716  5.94712608  2.72211163]\n",
      " [ 4.45896046  4.42802319  4.16642187]\n",
      " [ 4.50342984  3.97524703  4.20049895]\n",
      " [ 1.58690589  3.05870032  5.23324727]\n",
      " [ 3.03528421  4.1776324   2.0168103 ]\n",
      " [ 2.49815898  6.34217928  4.50308637]\n",
      " [ 2.53404823  4.32797656  4.1322651 ]\n",
      " [ 1.06586826  6.34480651  4.62898648]\n",
      " [ 4.49293825  4.43649433  5.06853595]\n",
      " [ 3.85988091  3.46693128  4.18620088]\n",
      " [ 3.39388896  4.42508234  3.54978608]\n",
      " [ 3.54523162  4.96208212  2.74410456]\n",
      " [ 3.73931636  5.22781736  4.31147332]\n",
      " [ 3.11970405  5.44902173  3.64249749]\n",
      " [ 1.92155213  4.25817516  5.38196892]\n",
      " [ 0.47785168  5.54054071  2.1971264 ]\n",
      " [ 0.98893705  3.99343144  3.67808297]\n",
      " [ 3.91313431  3.30159851  6.09259443]\n",
      " [ 4.45465463  4.86742641  3.63719274]\n",
      " [ 1.80808448  5.58804059  4.08600184]\n",
      " [ 4.76508038  4.31378439  4.68492991]\n",
      " [ 2.95452183  4.15298375  6.37788005]\n",
      " [ 3.34950674  5.6202545   2.66429036]\n",
      " [ 2.09672408  5.08413956  3.26943105]\n",
      " [ 3.75252784  5.43836524  3.02207101]\n",
      " [ 3.24116998  5.00402491  3.79490589]\n",
      " [ 1.56398467  4.1644915   4.26306341]\n",
      " [ 4.26748079  4.02980218  5.52147695]\n",
      " [ 3.22830922  3.73018041  4.40423741]\n",
      " [ 4.10721857  5.26439469  6.89890915]\n",
      " [ 3.38583459  5.89256403  4.01377837]\n",
      " [ 4.22509266  2.60442799  2.92809686]\n",
      " [ 2.54465239  5.5039269   4.23541402]\n",
      " [ 4.35653384  5.35693907  4.25916196]\n",
      " [ 2.81866933  5.16390425  5.03689061]]\n"
     ]
    },
    {
     "data": {
      "image/png": "[encoded data removed]",
      "text/plain": [
       "<Figure size 432x288 with 1 Axes>"
      ]
     },
     "metadata": {
      "needs_background": "light"
     },
     "output_type": "display_data"
    }
   ],
   "source": []
  },
  {
   "cell_type": "code",
   "execution_count": 31,
   "metadata": {},
   "outputs": [
    {
     "data": {
      "text/html": [
       "<div>\n",
       "<style scoped>\n",
       "    .dataframe tbody tr th:only-of-type {\n",
       "        vertical-align: middle;\n",
       "    }\n",
       "\n",
       "    .dataframe tbody tr th {\n",
       "        vertical-align: top;\n",
       "    }\n",
       "\n",
       "    .dataframe thead tr th {\n",
       "        text-align: left;\n",
       "    }\n",
       "\n",
       "    .dataframe thead tr:last-of-type th {\n",
       "        text-align: right;\n",
       "    }\n",
       "</style>\n",
       "<table border=\"1\" class=\"dataframe\">\n",
       "  <thead>\n",
       "    <tr>\n",
       "      <th>Price</th>\n",
       "      <th>Adj Close</th>\n",
       "      <th>Close</th>\n",
       "      <th>High</th>\n",
       "      <th>Low</th>\n",
       "      <th>Open</th>\n",
       "      <th>Volume</th>\n",
       "    </tr>\n",
       "    <tr>\n",
       "      <th>Ticker</th>\n",
       "      <th>AAPL</th>\n",
       "      <th>AAPL</th>\n",
       "      <th>AAPL</th>\n",
       "      <th>AAPL</th>\n",
       "      <th>AAPL</th>\n",
       "      <th>AAPL</th>\n",
       "    </tr>\n",
       "    <tr>\n",
       "      <th>Date</th>\n",
       "      <th></th>\n",
       "      <th></th>\n",
       "      <th></th>\n",
       "      <th></th>\n",
       "      <th></th>\n",
       "      <th></th>\n",
       "    </tr>\n",
       "  </thead>\n",
       "  <tbody>\n",
       "    <tr>\n",
       "      <th>2023-01-03 00:00:00+00:00</th>\n",
       "      <td>123.904633</td>\n",
       "      <td>125.070000</td>\n",
       "      <td>130.899994</td>\n",
       "      <td>124.169998</td>\n",
       "      <td>130.279999</td>\n",
       "      <td>112117500</td>\n",
       "    </tr>\n",
       "    <tr>\n",
       "      <th>2023-01-04 00:00:00+00:00</th>\n",
       "      <td>125.182610</td>\n",
       "      <td>126.360001</td>\n",
       "      <td>128.660004</td>\n",
       "      <td>125.080002</td>\n",
       "      <td>126.889999</td>\n",
       "      <td>89113600</td>\n",
       "    </tr>\n",
       "    <tr>\n",
       "      <th>2023-01-05 00:00:00+00:00</th>\n",
       "      <td>123.855095</td>\n",
       "      <td>125.019997</td>\n",
       "      <td>127.769997</td>\n",
       "      <td>124.760002</td>\n",
       "      <td>127.129997</td>\n",
       "      <td>80962700</td>\n",
       "    </tr>\n",
       "    <tr>\n",
       "      <th>2023-01-06 00:00:00+00:00</th>\n",
       "      <td>128.412216</td>\n",
       "      <td>129.619995</td>\n",
       "      <td>130.289993</td>\n",
       "      <td>124.889999</td>\n",
       "      <td>126.010002</td>\n",
       "      <td>87754700</td>\n",
       "    </tr>\n",
       "    <tr>\n",
       "      <th>2023-01-09 00:00:00+00:00</th>\n",
       "      <td>128.937302</td>\n",
       "      <td>130.149994</td>\n",
       "      <td>133.410004</td>\n",
       "      <td>129.889999</td>\n",
       "      <td>130.470001</td>\n",
       "      <td>70790800</td>\n",
       "    </tr>\n",
       "  </tbody>\n",
       "</table>\n",
       "</div>"
      ],
      "text/plain": [
       "Price                       Adj Close       Close        High         Low  \\\n",
       "Ticker                           AAPL        AAPL        AAPL        AAPL   \n",
       "Date                                                                        \n",
       "2023-01-03 00:00:00+00:00  123.904633  125.070000  130.899994  124.169998   \n",
       "2023-01-04 00:00:00+00:00  125.182610  126.360001  128.660004  125.080002   \n",
       "2023-01-05 00:00:00+00:00  123.855095  125.019997  127.769997  124.760002   \n",
       "2023-01-06 00:00:00+00:00  128.412216  129.619995  130.289993  124.889999   \n",
       "2023-01-09 00:00:00+00:00  128.937302  130.149994  133.410004  129.889999   \n",
       "\n",
       "Price                            Open     Volume  \n",
       "Ticker                           AAPL       AAPL  \n",
       "Date                                              \n",
       "2023-01-03 00:00:00+00:00  130.279999  112117500  \n",
       "2023-01-04 00:00:00+00:00  126.889999   89113600  \n",
       "2023-01-05 00:00:00+00:00  127.129997   80962700  \n",
       "2023-01-06 00:00:00+00:00  126.010002   87754700  \n",
       "2023-01-09 00:00:00+00:00  130.470001   70790800  "
      ]
     },
     "execution_count": 31,
     "metadata": {},
     "output_type": "execute_result"
    }
   ],
   "source": [
    "# Display the first few rows of the data\n",
    "data.head()"
   ]
  },
  {
   "cell_type": "code",
   "execution_count": 32,
   "metadata": {},
   "outputs": [
    {
     "name": "stdout",
     "output_type": "stream",
     "text": [
      "[ 0.75529996  0.87948569 -0.2399563  -0.69505665 -0.47140008  0.34947641\n",
      "  1.61145729  0.23933927  0.48500263 -1.65860471  2.67991031 -1.10352213\n",
      "  1.81778261 -0.55604734  0.95771124  0.81522068  0.0643194  -0.16640537\n",
      " -0.94070977 -0.0535945   1.1011362   0.37212255 -0.88346099  1.15805157\n",
      " -1.20365349  0.20983914 -0.89118692 -0.78268775  1.07973068 -0.46284089\n",
      " -1.51507568 -0.53871853  0.75662186 -0.72939922  1.21478265  1.00828297\n",
      "  0.07328301  1.17373241  1.86295167 -1.9836365   1.15668893  0.60928227\n",
      " -0.32320123  0.66414561  0.39672599 -0.57611686  1.48821839  0.14024687\n",
      "  1.18831675 -0.24574539 -1.63558662  0.24479809 -0.23508223 -1.26082781\n",
      " -1.69196793  0.61645092  1.26969128  1.39733798  0.53422496  0.00410204\n",
      "  0.18941984  0.04477469  0.79468527 -0.49314074 -1.26158974 -0.21926026\n",
      "  0.19727222 -0.25528045  0.02580759  2.20096644  0.8843676  -1.38682253\n",
      "  0.65366231 -2.17660863  0.61894892  0.4772343   0.02609653 -0.96970567\n",
      " -0.98372812  0.41253272 -0.61430485  0.83708178 -0.62361901 -0.3631862\n",
      "  0.75947133 -0.033927   -0.16640069  0.26957242  0.37530555 -0.08391524\n",
      "  0.22612635 -0.11588073  0.41160241  0.28781043  0.50427148  0.80426736\n",
      " -1.03060821 -1.35769756 -0.26650187 -0.1712928 ]\n"
     ]
    },
    {
     "data": {
      "image/png": "[encoded data removed]",
      "text/plain": [
       "<Figure size 432x288 with 1 Axes>"
      ]
     },
     "metadata": {
      "needs_background": "light"
     },
     "output_type": "display_data"
    }
   ],
   "source": [
    "# Generate random data\n",
    "data = np.random.randn(100)\n",
    "\n",
    "print(data)\n",
    "# Create a box plot\n",
    "plt.boxplot(data)\n",
    "\n",
    "# Add titles and labels\n",
    "plt.title('Simple Box Plot')\n",
    "plt.ylabel('Values')\n",
    "plt.grid()\n",
    "\n",
    "# Show the plot\n",
    "plt.show()"
   ]
  },
  {
   "cell_type": "code",
   "execution_count": null,
   "metadata": {},
   "outputs": [],
   "source": []
  }
 ],
 "metadata": {
  "kernelspec": {
   "display_name": "tf_2.2",
   "language": "python",
   "name": "python3"
  },
  "language_info": {
   "codemirror_mode": {
    "name": "ipython",
    "version": 3
   },
   "file_extension": ".py",
   "mimetype": "text/x-python",
   "name": "python",
   "nbconvert_exporter": "python",
   "pygments_lexer": "ipython3",
   "version": "3.7.9"
  }
 },
 "nbformat": 4,
 "nbformat_minor": 1
}

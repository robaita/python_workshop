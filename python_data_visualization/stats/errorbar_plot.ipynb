{
 "cells": [
  {
   "cell_type": "markdown",
   "metadata": {},
   "source": [
    "<div id=\"BBox\" class=\"alert alert-success\" style=\"font-family:courier;color:black;justify-content:left;\">\n",
    "<h1>Error Bar</h1>\n",
    "An error bar is a graphical representation used to show the variability or uncertainty in data. In plots, error bars indicate the possible error or range of uncertainty around each data point. They are commonly used in scientific and statistical visualizations to show confidence intervals, standard deviations, or measurement errors.<br><br>\n",
    "<strong>Purpose of Error Bars:</strong>\n",
    "<ul>\n",
    "  <li>Vertical error bars show uncertainty in the y values.\"</li>\n",
    "  <li>Horizontal error bars show uncertainty in the x values.</li>\n",
    "  <li>Error bars can represent:</li>\n",
    "    <ul>\n",
    "      <li>Standard deviation.</li>\n",
    "      <li>Standard error.</li>\n",
    "      <li>Confidence intervals.</li>\n",
    "      <li>Any form of uncertainty related to the data point.</li>\n",
    "    </ul>\n",
    "</ul>\n",
    "    \n",
    "<strong>Explanation:</strong>\n",
    "<ul>\n",
    "  <li>x and y: Data points to be plotted.</li>\n",
    "  <li>yerr and xerr: These define the length of the error bars in the y and x directions, respectively. </li>\n",
    "  <li>fmt='o': Specifies the format of the data points (in this case, circular markers).</li>\n",
    "  <li>capsize=5: Defines the size of the caps at the end of the error bars. </li>\n",
    "</ul>    \n",
    "\n",
    "</div>"
   ]
  },
  {
   "cell_type": "code",
   "execution_count": 1,
   "metadata": {},
   "outputs": [
    {
     "data": {
      "image/png": "[encoded data removed]",
      "text/plain": [
       "<Figure size 432x288 with 1 Axes>"
      ]
     },
     "metadata": {
      "needs_background": "light"
     },
     "output_type": "display_data"
    }
   ],
   "source": [
    "import matplotlib.pyplot as plt\n",
    "import numpy as np\n",
    "\n",
    "# make data:\n",
    "np.random.seed(1)\n",
    "x = [2, 4, 6]\n",
    "y = [3.6, 5, 4.2]\n",
    "yerr = [0.9, 1.2, 0.5]\n",
    "\n",
    "# plot:\n",
    "fig, ax = plt.subplots()\n",
    "\n",
    "ax.errorbar(x, y, yerr, fmt='o', linewidth=2, capsize=6) # fmt refers to the format string used to specify the appearance of the data points \n",
    "\n",
    "ax.set(xlim=(0, 8), xticks=np.arange(1, 8),\n",
    "       ylim=(0, 8), yticks=np.arange(1, 8))\n",
    "\n",
    "plt.show()"
   ]
  },
  {
   "cell_type": "code",
   "execution_count": null,
   "metadata": {},
   "outputs": [],
   "source": []
  }
 ],
 "metadata": {
  "kernelspec": {
   "display_name": "Python 3",
   "language": "python",
   "name": "python3"
  },
  "language_info": {
   "codemirror_mode": {
    "name": "ipython",
    "version": 3
   },
   "file_extension": ".py",
   "mimetype": "text/x-python",
   "name": "python",
   "nbconvert_exporter": "python",
   "pygments_lexer": "ipython3",
   "version": "3.8.3"
  }
 },
 "nbformat": 4,
 "nbformat_minor": 1
}

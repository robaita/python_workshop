{
 "cells": [
  {
   "cell_type": "markdown",
   "metadata": {},
   "source": [
    "<div id=\"BBox\" class=\"alert alert-success\" style=\"font-family:courier;color:black;justify-content:left;\">\n",
    "<h1>Violin Plot</h1>\n",
    "A violin plot is a data visualization tool that combines elements of a box plot and a density plot. It is used to display the distribution of a dataset and provides insights into its probability density at different values. Violin plots are particularly useful for comparing distributions between multiple categories or groups.<br><br>\n",
    "<strong>Components of a Event Plot</strong>\n",
    "<ul>\n",
    "  <li>Density Estimation: The shape of the \"violin\" represents the probability density of the data at different values, allowing you to see where the data points are concentrated.</li>\n",
    "  <li>Box Plot Elements: Violin plots often include a box plot inside the violin, which shows the median, quartiles, and outliers of the data, providing additional statistical information.</li>\n",
    "  <li>Comparative Visualization: Violin plots can be used to compare the distributions of several groups side by side, making it easier to visualize differences.</li>\n",
    "</ul>\n",
    "    \n",
    "<strong>Explanation:</strong>\n",
    "<ul>\n",
    "  <li>Data Generation: In this example, we generate random normal data for three groups. Each column in the data array represents a different group.</li>\n",
    "  <li>ax.violinplot(data=data): This function creates the violin plot for the given data. Each violin corresponds to a group.</li>\n",
    "</ul>    \n",
    "\n",
    "<strong>Use Case:</strong>\n",
    "      <ul>\n",
    "      <li>Comparative Analysis: Ideal for comparing distributions across multiple categories or groups, especially in fields like biology, social sciences, and finance.</li>\n",
    "      <li>Exploratory Data Analysis: Useful in exploratory data analysis to visualize the distribution of data and identify patterns or anomalies.</li>\n",
    "      <li>Visualizing Univariate Data: Effective for displaying the distribution of a single variable in relation to categories.</li>\n",
    "   </ul>\n",
    "\n",
    "</div>"
   ]
  },
  {
   "cell_type": "code",
   "execution_count": 1,
   "metadata": {},
   "outputs": [
    {
     "data": {
      "image/png": "[encoded data removed]",
      "text/plain": [
       "<Figure size 432x288 with 1 Axes>"
      ]
     },
     "metadata": {
      "needs_background": "light"
     },
     "output_type": "display_data"
    }
   ],
   "source": [
    "import matplotlib.pyplot as plt\n",
    "import numpy as np\n",
    "\n",
    "# make data:\n",
    "np.random.seed(10)\n",
    "D = np.random.normal((3, 5, 4), (0.75, 1.00, 0.75), (200, 3))\n",
    "\n",
    "# plot:\n",
    "fig, ax = plt.subplots()\n",
    "\n",
    "vp = ax.violinplot(D, [2, 4, 6], widths=2,\n",
    "                   showmeans=False, showmedians=False, showextrema=False)\n",
    "# styling:\n",
    "for body in vp['bodies']:\n",
    "    body.set_alpha(0.9)\n",
    "ax.set(xlim=(0, 8), xticks=np.arange(1, 8),\n",
    "       ylim=(0, 8), yticks=np.arange(1, 8))\n",
    "\n",
    "plt.show()"
   ]
  },
  {
   "cell_type": "code",
   "execution_count": null,
   "metadata": {},
   "outputs": [],
   "source": []
  }
 ],
 "metadata": {
  "kernelspec": {
   "display_name": "Python 3",
   "language": "python",
   "name": "python3"
  },
  "language_info": {
   "codemirror_mode": {
    "name": "ipython",
    "version": 3
   },
   "file_extension": ".py",
   "mimetype": "text/x-python",
   "name": "python",
   "nbconvert_exporter": "python",
   "pygments_lexer": "ipython3",
   "version": "3.8.3"
  }
 },
 "nbformat": 4,
 "nbformat_minor": 1
}

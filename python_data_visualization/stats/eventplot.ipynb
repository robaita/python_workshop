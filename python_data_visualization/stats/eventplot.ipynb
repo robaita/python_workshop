{
 "cells": [
  {
   "cell_type": "markdown",
   "metadata": {},
   "source": [
    "<div id=\"BBox\" class=\"alert alert-success\" style=\"font-family:courier;color:black;justify-content:left;\">\n",
    "<h1>Event Plot</h1>\n",
    "An event plot is a type of plot used to visualize the timing and occurrence of events over a specific time period. This type of plot is particularly useful in fields like event history analysis, neuroscience, and other areas where understanding the timing of events is crucial. Event plots can effectively illustrate the occurrence of discrete events, their relationships, and patterns over time.<br><br>\n",
    "<strong>Components of a Event Plot</strong>\n",
    "<ul>\n",
    "  <li>Discrete Events: Each event is represented as a marker (like a dot or line) along a timeline.</li>\n",
    "  <li>Time Representation: The x-axis typically represents time, while the y-axis can represent different categories, subjects, or groups.</li>\n",
    "  <li>Multiple Events: You can plot multiple events on the same timeline, allowing for easy comparison and analysis.</li>\n",
    "</ul>\n",
    "    \n",
    "<strong>Explanation:</strong>\n",
    "<ul>\n",
    "  <li>event_times: A list of times at which events occur.</li>\n",
    "  <li>event_labels: Labels for each event.</li>\n",
    "  <li>ax.plot(event, i, 'o'): This creates a marker at each event's time along the y-axis.</li>\n",
    "  <li>ax.text(event, i, event_labels[i]): This adds text labels next to the markers for clarity.</li>\n",
    "</ul>    \n",
    "\n",
    "<strong>Use Case:</strong>\n",
    "      <ul>\n",
    "      <li>Medical Research: Visualizing the timing of patient treatments or symptoms.</li>\n",
    "      <li>Neuroscience: Analyzing neural spikes or activity in response to stimuli.</li>\n",
    "      <li>Social Sciences: Tracking the occurrence of social events or behaviors over time.</li>\n",
    "      <li>Engineering: Monitoring system failures or incidents in machinery.</li>\n",
    "   </ul>\n",
    "\n",
    "</div>"
   ]
  },
  {
   "cell_type": "code",
   "execution_count": 1,
   "metadata": {},
   "outputs": [
    {
     "data": {
      "image/png": "[encoded data removed]",
      "text/plain": [
       "<Figure size 432x288 with 1 Axes>"
      ]
     },
     "metadata": {
      "needs_background": "light"
     },
     "output_type": "display_data"
    }
   ],
   "source": [
    "import matplotlib.pyplot as plt\n",
    "import numpy as np\n",
    "\n",
    "# make data:\n",
    "np.random.seed(1)\n",
    "x = [2, 4, 6]\n",
    "D = np.random.gamma(4, size=(3, 50))\n",
    "\n",
    "# plot:\n",
    "fig, ax = plt.subplots()\n",
    "\n",
    "ax.eventplot(D, orientation=\"vertical\", lineoffsets=x, linewidth=0.75)\n",
    "\n",
    "ax.set(xlim=(0, 8), xticks=np.arange(1, 8),\n",
    "       ylim=(0, 8), yticks=np.arange(1, 8))\n",
    "\n",
    "plt.show()"
   ]
  },
  {
   "cell_type": "code",
   "execution_count": null,
   "metadata": {},
   "outputs": [],
   "source": []
  }
 ],
 "metadata": {
  "kernelspec": {
   "display_name": "Python 3",
   "language": "python",
   "name": "python3"
  },
  "language_info": {
   "codemirror_mode": {
    "name": "ipython",
    "version": 3
   },
   "file_extension": ".py",
   "mimetype": "text/x-python",
   "name": "python",
   "nbconvert_exporter": "python",
   "pygments_lexer": "ipython3",
   "version": "3.8.3"
  }
 },
 "nbformat": 4,
 "nbformat_minor": 1
}

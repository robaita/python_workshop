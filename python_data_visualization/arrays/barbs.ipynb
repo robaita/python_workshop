{
 "cells": [
  {
   "cell_type": "markdown",
   "metadata": {},
   "source": [
    "<div id=\"BBox\" class=\"alert alert-success\" style=\"font-family:courier;color:black;justify-content:left;\">\n",
    "<h1>Barb Plot</h1>\n",
    "A barb plot is a type of plot used to represent vector fields, particularly in meteorology, to visualize wind speed and direction. The plot shows wind barbs, which are graphical symbols representing both the magnitude and direction of wind at various points in space.<br><br>\n",
    "<strong>Components of a Barb Plot</strong>\n",
    "<ul>\n",
    "  <li>Barbs are small symbols consisting of a shaft and \"feathers.\"</li>\n",
    "    <ul>\n",
    "      <li>The shaft indicates the wind direction.</li>\n",
    "      <li>The feathers (or barbs) indicate the wind speed. More feathers represent higher wind speeds.</li>\n",
    "    </ul>\n",
    "  <li>Direction: The shaft points in the direction from which the wind is coming.</li>\n",
    "  <li>Speed: The number and type of feathers attached to the shaft indicate the wind speed. Full feathers usually represent increments of wind speed (e.g., 10 knots).</li>\n",
    "</ul>\n",
    "    \n",
    "<strong>Explanation:</strong>\n",
    "<ul>\n",
    "  <li>X, Y: The grid points where the barbs are placed.</li>\n",
    "  <li>U, V: The wind components (in x and y directions) used to define the wind's speed and direction at each grid point.</li>\n",
    "  <li>The barbs' direction indicates the wind direction, and the feathers on the barb represent the wind speed.</li>\n",
    "</ul>    \n",
    "\n",
    "<strong>Use Case:</strong>\n",
    "Barb plots are typically used in weather forecasting to show the wind conditions (both speed and direction) at multiple points on a map or grid.\n",
    "\n",
    "</div>"
   ]
  },
  {
   "cell_type": "code",
   "execution_count": 3,
   "metadata": {},
   "outputs": [
    {
     "data": {
      "image/png": "[encoded data removed]",
      "text/plain": [
       "<Figure size 432x288 with 1 Axes>"
      ]
     },
     "metadata": {
      "needs_background": "light"
     },
     "output_type": "display_data"
    }
   ],
   "source": [
    "import matplotlib.pyplot as plt\n",
    "import numpy as np\n",
    "\n",
    "# make data:\n",
    "X, Y = np.meshgrid([1, 2, 3, 4], [1, 2, 3, 4])\n",
    "angle = np.pi / 180 * np.array([[15., 30, 35, 45],\n",
    "                                [25., 40, 55, 60],\n",
    "                                [35., 50, 65, 75],\n",
    "                                [45., 60, 75, 90]])\n",
    "amplitude = np.array([[5, 10, 25, 50],\n",
    "                      [10, 15, 30, 60],\n",
    "                      [15, 26, 50, 70],\n",
    "                      [20, 45, 80, 100]])\n",
    "\n",
    "U = amplitude * np.sin(angle)\n",
    "V = amplitude * np.cos(angle)\n",
    "\n",
    "# plot:\n",
    "fig, ax = plt.subplots()\n",
    "\n",
    "ax.barbs(X, Y, U, V, barbcolor='C0', flagcolor='C0', length=7, linewidth=1.5)\n",
    "\n",
    "ax.set(xlim=(0, 4.5), ylim=(0, 4.5))\n",
    "\n",
    "plt.show()"
   ]
  },
  {
   "cell_type": "code",
   "execution_count": null,
   "metadata": {},
   "outputs": [],
   "source": []
  }
 ],
 "metadata": {
  "kernelspec": {
   "display_name": "Python 3",
   "language": "python",
   "name": "python3"
  },
  "language_info": {
   "codemirror_mode": {
    "name": "ipython",
    "version": 3
   },
   "file_extension": ".py",
   "mimetype": "text/x-python",
   "name": "python",
   "nbconvert_exporter": "python",
   "pygments_lexer": "ipython3",
   "version": "3.8.3"
  }
 },
 "nbformat": 4,
 "nbformat_minor": 1
}

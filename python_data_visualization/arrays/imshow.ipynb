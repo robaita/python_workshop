{
 "cells": [
  {
   "cell_type": "markdown",
   "metadata": {},
   "source": [
    "<div id=\"BBox\" class=\"alert alert-success\" style=\"font-family:courier;color:black;justify-content:left;\">\n",
    "<h1>Imshow Plot</h1>\n",
    "An imshow plot is a type of plot in Matplotlib used to display data as an image, where the data is represented in a grid format (2D array or matrix) and visualized using color. Each element in the matrix corresponds to a pixel in the resulting image, and the color of the pixel represents the value of the element at that position.<br>\n",
    "The imshow() function is commonly used for displaying images, heatmaps, or any 2D numerical data that can be interpreted visually.<br><br>\n",
    "    \n",
    "<strong>Key Features</strong> <br>\n",
    "Matplotlib provides two types of contour plots:\n",
    "<ul>\n",
    "  <li>The grid data is displayed as a colored image.</li>\n",
    "  <li>It can visualize any 2D array where values are mapped to colors.</li>\n",
    "  <li>It’s useful for displaying images, heatmaps, or matrices.</li>\n",
    "</ul>\n",
    "    \n",
    "<strong>Explanation:</strong>\n",
    "<ul>\n",
    "  <li>data: This is a 2D array of shape (10, 10) filled with random values, which will be visualized using color.</li>\n",
    "  <li>imshow(): This function displays the 2D array as an image.</li>\n",
    "  <ul>\n",
    "      <li>cmap='viridis' specifies the colormap to use (you can choose from a wide variety of colormaps such as 'gray', 'plasma', 'coolwarm', etc.).</li>\n",
    "      <li>interpolation='none' disables interpolation between pixels, giving each pixel its own color block (useful for heatmaps).</li>\n",
    "      \n",
    "   </ul>\n",
    "  <li>plt.colorbar(): Adds a color bar on the side to indicate the color scale and corresponding values.</li>\n",
    "</ul>    \n",
    "\n",
    "<strong>Use Case:</strong>\n",
    "   <ul>\n",
    "      <li>Heatmaps: Visualize matrices of data (e.g., correlation matrices or confusion matrices)</li>\n",
    "      <li>Image Display: Display an image directly from pixel data (e.g., RGB values or grayscale images).</li>\n",
    "      <li>Scientific Data Visualization: Used to represent datasets like spectrograms, geographical maps, or other 2D data distributions.</li>\n",
    "   </ul>\n",
    "\n",
    "</div>"
   ]
  },
  {
   "cell_type": "code",
   "execution_count": 2,
   "metadata": {},
   "outputs": [
    {
     "data": {
      "image/png": "[encoded data removed]",
      "text/plain": [
       "<Figure size 432x288 with 1 Axes>"
      ]
     },
     "metadata": {
      "needs_background": "light"
     },
     "output_type": "display_data"
    }
   ],
   "source": [
    "import matplotlib.pyplot as plt\n",
    "import numpy as np\n",
    "\n",
    "# make data\n",
    "X, Y = np.meshgrid(np.linspace(-3, 3, 16), np.linspace(-3, 3, 16))\n",
    "Z = (1 - X/2 + X**5 + Y**3) * np.exp(-X**2 - Y**2)\n",
    "\n",
    "# plot\n",
    "fig, ax = plt.subplots()\n",
    "\n",
    "ax.imshow(Z, origin='lower')\n",
    "\n",
    "plt.show()"
   ]
  },
  {
   "cell_type": "code",
   "execution_count": null,
   "metadata": {},
   "outputs": [],
   "source": []
  }
 ],
 "metadata": {
  "kernelspec": {
   "display_name": "Python 3",
   "language": "python",
   "name": "python3"
  },
  "language_info": {
   "codemirror_mode": {
    "name": "ipython",
    "version": 3
   },
   "file_extension": ".py",
   "mimetype": "text/x-python",
   "name": "python",
   "nbconvert_exporter": "python",
   "pygments_lexer": "ipython3",
   "version": "3.8.3"
  }
 },
 "nbformat": 4,
 "nbformat_minor": 1
}

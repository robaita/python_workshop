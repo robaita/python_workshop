{
 "cells": [
  {
   "cell_type": "markdown",
   "metadata": {},
   "source": [
    "<div id=\"BBox\" class=\"alert alert-success\" style=\"font-family:courier;color:black;justify-content:left;\">\n",
    "<h1>Contour Plot</h1>\n",
    "A contour plot is a graphical representation used to display three-dimensional data in two dimensions, where lines (contours) represent regions of equal values. It is commonly used to represent functions of two variables and visualize areas of constant values, making it ideal for showing topological maps, temperature distributions, and other fields where you want to observe changes across two axes.<br><br>\n",
    "<strong>Components of a contour Plot</strong>\n",
    "Matplotlib provides two types of contour plots:\n",
    "<ul>\n",
    "  <li>plt.contour(): Creates a contour plot where the contour lines represent levels of constant values.</li>\n",
    "  <li>plt.contourf(): Creates a filled contour plot where the areas between the lines are filled with colors representing the different levels.\n",
    "  </li>\n",
    "</ul>\n",
    "    \n",
    "<strong>Explanation:</strong>\n",
    "<ul>\n",
    "  <li>X, Y: These are the grid points for the x and y axes, created using np.meshgrid().</li>\n",
    "  <li>Z: Represents the function values at each point (X, Y); in this example, Z = X² + Y² is a simple 3D surface.</li>\n",
    "  <li>plt.contour(): Draws the contour lines at different levels of Z</li>\n",
    "  <ul>\n",
    "      <li>The levels argument specifies the number of contour levels (in this case, 10).</li>\n",
    "      <li>cmap defines the colormap used for the contour lines.</li>\n",
    "   </ul>\n",
    "</ul>    \n",
    "\n",
    "<strong>contourf</strong>\n",
    "  <ul>\n",
    "      <li>contourf() creates a filled contour plot, where the space between contour lines is filled with different colors corresponding to the value range of Z. </li>\n",
    "      <li>A color bar is added to indicate what range of Z values each color represents.</li>\n",
    "   </ul>\n",
    "\n",
    "<strong>Use Case:</strong>\n",
    "      <ul>\n",
    "      <li>Topographical Maps: Contour lines are used to represent elevation at different points on a map.</li>\n",
    "      <li>Heat Maps: Contour plots can show temperature, pressure, or any other quantity that varies over a 2D space.</li>\n",
    "      <li>Mathematical Functions: Used to visualize the behavior of 3D surfaces on a 2D plane.</li>\n",
    "   </ul>\n",
    "\n",
    "</div>"
   ]
  },
  {
   "cell_type": "code",
   "execution_count": 1,
   "metadata": {},
   "outputs": [
    {
     "data": {
      "image/png": "[encoded data removed]",
      "text/plain": [
       "<Figure size 432x288 with 1 Axes>"
      ]
     },
     "metadata": {
      "needs_background": "light"
     },
     "output_type": "display_data"
    }
   ],
   "source": [
    "import matplotlib.pyplot as plt\n",
    "import numpy as np\n",
    "\n",
    "# make data\n",
    "X, Y = np.meshgrid(np.linspace(-3, 3, 256), np.linspace(-3, 3, 256))\n",
    "Z = (1 - X/2 + X**5 + Y**3) * np.exp(-X**2 - Y**2)\n",
    "levels = np.linspace(Z.min(), Z.max(), 7)\n",
    "\n",
    "# plot\n",
    "fig, ax = plt.subplots()\n",
    "\n",
    "ax.contourf(X, Y, Z, levels=levels)\n",
    "\n",
    "plt.show()"
   ]
  },
  {
   "cell_type": "code",
   "execution_count": null,
   "metadata": {},
   "outputs": [],
   "source": []
  }
 ],
 "metadata": {
  "kernelspec": {
   "display_name": "Python 3",
   "language": "python",
   "name": "python3"
  },
  "language_info": {
   "codemirror_mode": {
    "name": "ipython",
    "version": 3
   },
   "file_extension": ".py",
   "mimetype": "text/x-python",
   "name": "python",
   "nbconvert_exporter": "python",
   "pygments_lexer": "ipython3",
   "version": "3.8.3"
  }
 },
 "nbformat": 4,
 "nbformat_minor": 1
}
